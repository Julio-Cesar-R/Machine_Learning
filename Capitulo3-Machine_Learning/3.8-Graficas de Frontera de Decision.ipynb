{
 "cells": [
  {
   "cell_type": "markdown",
   "metadata": {},
   "source": [
    "# Graficas de Frontera de Decisión"
   ]
  },
  {
   "cell_type": "code",
   "execution_count": 1,
   "metadata": {},
   "outputs": [],
   "source": [
    "import numpy as np\n",
    "import matplotlib.pyplot as plt\n",
    "import pandas as pd\n",
    "%matplotlib inline\n",
    "from sklearn.linear_model import LogisticRegression\n",
    "from matplotlib.colors import ListedColormap"
   ]
  },
  {
   "cell_type": "markdown",
   "metadata": {},
   "source": [
    "## Loading the data"
   ]
  },
  {
   "cell_type": "code",
   "execution_count": 2,
   "metadata": {},
   "outputs": [
    {
     "data": {
      "text/html": [
       "<div>\n",
       "<style scoped>\n",
       "    .dataframe tbody tr th:only-of-type {\n",
       "        vertical-align: middle;\n",
       "    }\n",
       "\n",
       "    .dataframe tbody tr th {\n",
       "        vertical-align: top;\n",
       "    }\n",
       "\n",
       "    .dataframe thead th {\n",
       "        text-align: right;\n",
       "    }\n",
       "</style>\n",
       "<table border=\"1\" class=\"dataframe\">\n",
       "  <thead>\n",
       "    <tr style=\"text-align: right;\">\n",
       "      <th></th>\n",
       "      <th>SepalLength</th>\n",
       "      <th>SepalWidth</th>\n",
       "      <th>PetalLength</th>\n",
       "      <th>PetalWidth</th>\n",
       "      <th>Class</th>\n",
       "    </tr>\n",
       "  </thead>\n",
       "  <tbody>\n",
       "    <tr>\n",
       "      <th>0</th>\n",
       "      <td>5.1</td>\n",
       "      <td>3.5</td>\n",
       "      <td>1.4</td>\n",
       "      <td>0.2</td>\n",
       "      <td>Iris-setosa</td>\n",
       "    </tr>\n",
       "    <tr>\n",
       "      <th>1</th>\n",
       "      <td>4.9</td>\n",
       "      <td>3.0</td>\n",
       "      <td>1.4</td>\n",
       "      <td>0.2</td>\n",
       "      <td>Iris-setosa</td>\n",
       "    </tr>\n",
       "    <tr>\n",
       "      <th>2</th>\n",
       "      <td>4.7</td>\n",
       "      <td>3.2</td>\n",
       "      <td>1.3</td>\n",
       "      <td>0.2</td>\n",
       "      <td>Iris-setosa</td>\n",
       "    </tr>\n",
       "    <tr>\n",
       "      <th>3</th>\n",
       "      <td>4.6</td>\n",
       "      <td>3.1</td>\n",
       "      <td>1.5</td>\n",
       "      <td>0.2</td>\n",
       "      <td>Iris-setosa</td>\n",
       "    </tr>\n",
       "    <tr>\n",
       "      <th>4</th>\n",
       "      <td>5.0</td>\n",
       "      <td>3.6</td>\n",
       "      <td>1.4</td>\n",
       "      <td>0.2</td>\n",
       "      <td>Iris-setosa</td>\n",
       "    </tr>\n",
       "  </tbody>\n",
       "</table>\n",
       "</div>"
      ],
      "text/plain": [
       "   SepalLength  SepalWidth  PetalLength  PetalWidth        Class\n",
       "0          5.1         3.5          1.4         0.2  Iris-setosa\n",
       "1          4.9         3.0          1.4         0.2  Iris-setosa\n",
       "2          4.7         3.2          1.3         0.2  Iris-setosa\n",
       "3          4.6         3.1          1.5         0.2  Iris-setosa\n",
       "4          5.0         3.6          1.4         0.2  Iris-setosa"
      ]
     },
     "execution_count": 2,
     "metadata": {},
     "output_type": "execute_result"
    }
   ],
   "source": [
    "df=pd.read_csv(\"../data\\iris_dataset.csv\")\n",
    "df.head()"
   ]
  },
  {
   "cell_type": "markdown",
   "metadata": {},
   "source": [
    "## Preprocessing the data"
   ]
  },
  {
   "cell_type": "code",
   "execution_count": 3,
   "metadata": {},
   "outputs": [
    {
     "data": {
      "text/plain": [
       "array(['Iris-setosa', 'Iris-versicolor', 'Iris-virginica'], dtype='<U15')"
      ]
     },
     "execution_count": 3,
     "metadata": {},
     "output_type": "execute_result"
    }
   ],
   "source": [
    "from sklearn import preprocessing\n",
    "le = preprocessing.LabelEncoder()\n",
    "le.fit([\"Iris-setosa\", \"Iris-versicolor\", \"Iris-virginica\"])\n",
    "le.classes_"
   ]
  },
  {
   "cell_type": "code",
   "execution_count": 4,
   "metadata": {},
   "outputs": [
    {
     "data": {
      "text/html": [
       "<div>\n",
       "<style scoped>\n",
       "    .dataframe tbody tr th:only-of-type {\n",
       "        vertical-align: middle;\n",
       "    }\n",
       "\n",
       "    .dataframe tbody tr th {\n",
       "        vertical-align: top;\n",
       "    }\n",
       "\n",
       "    .dataframe thead th {\n",
       "        text-align: right;\n",
       "    }\n",
       "</style>\n",
       "<table border=\"1\" class=\"dataframe\">\n",
       "  <thead>\n",
       "    <tr style=\"text-align: right;\">\n",
       "      <th></th>\n",
       "      <th>SepalLength</th>\n",
       "      <th>SepalWidth</th>\n",
       "      <th>PetalLength</th>\n",
       "      <th>PetalWidth</th>\n",
       "      <th>Class</th>\n",
       "      <th>class</th>\n",
       "    </tr>\n",
       "  </thead>\n",
       "  <tbody>\n",
       "    <tr>\n",
       "      <th>0</th>\n",
       "      <td>5.1</td>\n",
       "      <td>3.5</td>\n",
       "      <td>1.4</td>\n",
       "      <td>0.2</td>\n",
       "      <td>Iris-setosa</td>\n",
       "      <td>0</td>\n",
       "    </tr>\n",
       "    <tr>\n",
       "      <th>1</th>\n",
       "      <td>4.9</td>\n",
       "      <td>3.0</td>\n",
       "      <td>1.4</td>\n",
       "      <td>0.2</td>\n",
       "      <td>Iris-setosa</td>\n",
       "      <td>0</td>\n",
       "    </tr>\n",
       "    <tr>\n",
       "      <th>2</th>\n",
       "      <td>4.7</td>\n",
       "      <td>3.2</td>\n",
       "      <td>1.3</td>\n",
       "      <td>0.2</td>\n",
       "      <td>Iris-setosa</td>\n",
       "      <td>0</td>\n",
       "    </tr>\n",
       "    <tr>\n",
       "      <th>3</th>\n",
       "      <td>4.6</td>\n",
       "      <td>3.1</td>\n",
       "      <td>1.5</td>\n",
       "      <td>0.2</td>\n",
       "      <td>Iris-setosa</td>\n",
       "      <td>0</td>\n",
       "    </tr>\n",
       "    <tr>\n",
       "      <th>4</th>\n",
       "      <td>5.0</td>\n",
       "      <td>3.6</td>\n",
       "      <td>1.4</td>\n",
       "      <td>0.2</td>\n",
       "      <td>Iris-setosa</td>\n",
       "      <td>0</td>\n",
       "    </tr>\n",
       "    <tr>\n",
       "      <th>...</th>\n",
       "      <td>...</td>\n",
       "      <td>...</td>\n",
       "      <td>...</td>\n",
       "      <td>...</td>\n",
       "      <td>...</td>\n",
       "      <td>...</td>\n",
       "    </tr>\n",
       "    <tr>\n",
       "      <th>145</th>\n",
       "      <td>6.7</td>\n",
       "      <td>3.0</td>\n",
       "      <td>5.2</td>\n",
       "      <td>2.3</td>\n",
       "      <td>Iris-virginica</td>\n",
       "      <td>2</td>\n",
       "    </tr>\n",
       "    <tr>\n",
       "      <th>146</th>\n",
       "      <td>6.3</td>\n",
       "      <td>2.5</td>\n",
       "      <td>5.0</td>\n",
       "      <td>1.9</td>\n",
       "      <td>Iris-virginica</td>\n",
       "      <td>2</td>\n",
       "    </tr>\n",
       "    <tr>\n",
       "      <th>147</th>\n",
       "      <td>6.5</td>\n",
       "      <td>3.0</td>\n",
       "      <td>5.2</td>\n",
       "      <td>2.0</td>\n",
       "      <td>Iris-virginica</td>\n",
       "      <td>2</td>\n",
       "    </tr>\n",
       "    <tr>\n",
       "      <th>148</th>\n",
       "      <td>6.2</td>\n",
       "      <td>3.4</td>\n",
       "      <td>5.4</td>\n",
       "      <td>2.3</td>\n",
       "      <td>Iris-virginica</td>\n",
       "      <td>2</td>\n",
       "    </tr>\n",
       "    <tr>\n",
       "      <th>149</th>\n",
       "      <td>5.9</td>\n",
       "      <td>3.0</td>\n",
       "      <td>5.1</td>\n",
       "      <td>1.8</td>\n",
       "      <td>Iris-virginica</td>\n",
       "      <td>2</td>\n",
       "    </tr>\n",
       "  </tbody>\n",
       "</table>\n",
       "<p>150 rows × 6 columns</p>\n",
       "</div>"
      ],
      "text/plain": [
       "     SepalLength  SepalWidth  PetalLength  PetalWidth           Class  class\n",
       "0            5.1         3.5          1.4         0.2     Iris-setosa      0\n",
       "1            4.9         3.0          1.4         0.2     Iris-setosa      0\n",
       "2            4.7         3.2          1.3         0.2     Iris-setosa      0\n",
       "3            4.6         3.1          1.5         0.2     Iris-setosa      0\n",
       "4            5.0         3.6          1.4         0.2     Iris-setosa      0\n",
       "..           ...         ...          ...         ...             ...    ...\n",
       "145          6.7         3.0          5.2         2.3  Iris-virginica      2\n",
       "146          6.3         2.5          5.0         1.9  Iris-virginica      2\n",
       "147          6.5         3.0          5.2         2.0  Iris-virginica      2\n",
       "148          6.2         3.4          5.4         2.3  Iris-virginica      2\n",
       "149          5.9         3.0          5.1         1.8  Iris-virginica      2\n",
       "\n",
       "[150 rows x 6 columns]"
      ]
     },
     "execution_count": 4,
     "metadata": {},
     "output_type": "execute_result"
    }
   ],
   "source": [
    "df['class']=le.transform(df['Class'].values)\n",
    "df"
   ]
  },
  {
   "cell_type": "code",
   "execution_count": 6,
   "metadata": {},
   "outputs": [],
   "source": [
    "from sklearn.model_selection import train_test_split\n",
    "X_train, X_test, y_train, y_test = train_test_split(df[['PetalLength','PetalWidth']], df['class'], test_size=0.3, random_state= 2019)"
   ]
  },
  {
   "cell_type": "code",
   "execution_count": 7,
   "metadata": {},
   "outputs": [],
   "source": [
    "from sklearn.preprocessing import StandardScaler\n",
    "sc = StandardScaler()\n",
    "X_train_std = sc.fit_transform(X_train)\n",
    "X_test_std = sc.transform(X_test)"
   ]
  },
  {
   "cell_type": "code",
   "execution_count": 8,
   "metadata": {},
   "outputs": [],
   "source": [
    "X_combined_std = np.vstack((X_train_std, X_test_std))\n",
    "y_combined = np.hstack((y_train, y_test))"
   ]
  },
  {
   "cell_type": "code",
   "execution_count": 9,
   "metadata": {},
   "outputs": [
    {
     "name": "stdout",
     "output_type": "stream",
     "text": [
      "[[ 0.71655211  0.46296805]\n",
      " [-1.27537603 -1.36159772]\n",
      " [ 1.7409723   1.37525093]\n",
      " [-1.44611273 -1.36159772]\n",
      " [-1.3892005  -1.36159772]\n",
      " [ 0.71655211  0.7236203 ]\n",
      " [-1.3892005  -1.36159772]\n",
      " [ 1.05802551  1.37525093]\n",
      " [ 0.26125425  0.07198967]\n",
      " [ 0.20434202 -0.05833646]\n",
      " [-1.2184638  -1.10094547]\n",
      " [ 0.43199095  0.07198967]\n",
      " [ 0.09051755 -0.05833646]\n",
      " [-1.33228827 -1.36159772]\n",
      " [-0.19404361 -0.31898871]\n",
      " [ 1.28567444  0.85394643]\n",
      " [ 0.94420104  0.7236203 ]\n",
      " [-1.27537603 -1.36159772]\n",
      " [ 0.37507871  0.46296805]\n",
      " [-1.2184638  -0.97061934]\n",
      " [-1.27537603 -0.84029322]\n",
      " [ 0.71655211  1.37525093]\n",
      " [-1.33228827 -1.10094547]\n",
      " [-1.3892005  -1.36159772]\n",
      " [ 0.09051755 -0.31898871]\n",
      " [ 0.54581541  0.7236203 ]\n",
      " [-1.33228827 -1.49192385]\n",
      " [ 1.28567444  1.37525093]\n",
      " [ 0.48890318  0.33264192]\n",
      " [ 0.03360532 -0.18866258]\n",
      " [ 0.65963988  0.98427255]\n",
      " [ 0.14742978  0.07198967]\n",
      " [ 0.48890318 -0.05833646]\n",
      " [-0.47860478 -0.18866258]\n",
      " [ 0.60272765  0.7236203 ]\n",
      " [ 0.94420104  1.11459868]\n",
      " [ 1.17184997  1.37525093]\n",
      " [ 1.5702356   1.11459868]\n",
      " [ 0.37507871  0.07198967]\n",
      " [ 0.03360532  0.2023158 ]\n",
      " [ 1.05802551  1.11459868]\n",
      " [ 0.14742978  0.07198967]\n",
      " [ 1.05802551  1.63590319]\n",
      " [ 0.77346434  1.37525093]\n",
      " [-1.44611273 -1.36159772]\n",
      " [-1.61684943 -1.36159772]\n",
      " [ 0.20434202  0.07198967]\n",
      " [ 0.71655211  1.50557706]\n",
      " [ 1.28567444  1.63590319]\n",
      " [ 0.71655211  0.98427255]\n",
      " [ 0.83037658  0.85394643]\n",
      " [-1.44611273 -1.23127159]\n",
      " [ 1.11493774  0.46296805]\n",
      " [ 1.00111327  1.11459868]\n",
      " [ 0.71655211  0.33264192]\n",
      " [ 0.71655211  0.85394643]\n",
      " [ 0.37507871  0.33264192]\n",
      " [ 1.62714783  0.98427255]\n",
      " [ 0.09051755  0.07198967]\n",
      " [-1.3892005  -1.23127159]\n",
      " [ 0.20434202  0.07198967]\n",
      " [-1.33228827 -1.36159772]\n",
      " [-1.27537603 -1.10094547]\n",
      " [-1.33228827 -1.36159772]\n",
      " [-1.44611273 -1.23127159]\n",
      " [-1.33228827 -1.36159772]\n",
      " [-0.08021915 -0.31898871]\n",
      " [ 0.31816648  0.2023158 ]\n",
      " [-1.3892005  -1.36159772]\n",
      " [ 0.14742978 -0.31898871]\n",
      " [ 1.17184997  1.11459868]\n",
      " [ 0.37507871  0.33264192]\n",
      " [ 1.11493774  0.7236203 ]\n",
      " [ 1.62714783  1.24492481]\n",
      " [-0.02330691 -0.18866258]\n",
      " [ 0.88728881  1.37525093]\n",
      " [ 1.2287622   1.63590319]\n",
      " [ 0.48890318  0.2023158 ]\n",
      " [ 0.65963988  0.33264192]\n",
      " [-1.3892005  -1.36159772]\n",
      " [ 0.09051755  0.07198967]\n",
      " [ 0.20434202  0.33264192]\n",
      " [-1.33228827 -1.36159772]\n",
      " [ 0.37507871  0.59329418]\n",
      " [-1.27537603 -1.36159772]\n",
      " [ 0.94420104  0.7236203 ]\n",
      " [-0.13713138  0.07198967]\n",
      " [ 0.31816648  0.2023158 ]\n",
      " [ 1.00111327  1.50557706]\n",
      " [-1.33228827 -1.10094547]\n",
      " [-1.3892005  -1.36159772]\n",
      " [ 0.65963988  0.85394643]\n",
      " [ 0.88728881  1.11459868]\n",
      " [-0.30786808 -0.31898871]\n",
      " [-1.3892005  -1.49192385]\n",
      " [ 1.00111327  0.7236203 ]\n",
      " [-1.44611273 -1.10094547]\n",
      " [ 0.54581541  0.7236203 ]\n",
      " [ 1.00111327  1.50557706]\n",
      " [-1.33228827 -1.10094547]\n",
      " [-1.27537603 -1.36159772]\n",
      " [-1.10463934 -1.36159772]\n",
      " [-1.33228827 -1.49192385]\n",
      " [ 1.00111327  0.2023158 ]\n",
      " [ 0.03360532 -0.05833646]\n",
      " [ 0.60272765  0.33264192]\n",
      " [-1.2184638  -1.36159772]\n",
      " [-1.10463934 -1.10094547]\n",
      " [ 1.3994989   0.7236203 ]\n",
      " [ 0.60272765  0.7236203 ]\n",
      " [ 0.48890318  0.2023158 ]\n",
      " [ 1.45641114  0.98427255]\n",
      " [ 0.48890318  0.46296805]\n",
      " [ 1.11493774  1.24492481]\n",
      " [ 0.77346434  0.98427255]\n",
      " [-1.3892005  -1.36159772]\n",
      " [-1.3892005  -1.23127159]\n",
      " [ 1.00111327  1.24492481]\n",
      " [ 0.60272765  0.33264192]\n",
      " [-1.50302496 -1.36159772]\n",
      " [ 0.83037658  1.37525093]\n",
      " [ 0.54581541  0.7236203 ]\n",
      " [-0.19404361 -0.31898871]\n",
      " [ 0.09051755  0.07198967]\n",
      " [ 0.43199095  0.2023158 ]\n",
      " [-1.2184638  -1.23127159]\n",
      " [ 1.2287622   0.7236203 ]\n",
      " [-1.44611273 -1.36159772]\n",
      " [ 0.37507871  0.33264192]\n",
      " [-1.50302496 -1.36159772]\n",
      " [-1.33228827 -1.49192385]\n",
      " [ 0.37507871  0.33264192]\n",
      " [-1.44611273 -1.36159772]\n",
      " [ 0.37507871  0.33264192]\n",
      " [-1.33228827 -1.23127159]\n",
      " [ 0.26125425  0.07198967]\n",
      " [-1.3892005  -1.36159772]\n",
      " [-1.33228827 -1.36159772]\n",
      " [-1.27537603 -1.36159772]\n",
      " [ 0.60272765  0.98427255]\n",
      " [-1.33228827 -1.49192385]\n",
      " [-0.30786808 -0.31898871]\n",
      " [ 0.71655211  0.85394643]\n",
      " [-1.5599372  -1.49192385]\n",
      " [ 0.31816648  0.07198967]\n",
      " [ 0.43199095  0.33264192]\n",
      " [ 0.65963988  0.59329418]\n",
      " [-1.3892005  -1.23127159]\n",
      " [ 0.31816648 -0.05833646]\n",
      " [ 0.54581541  0.2023158 ]]\n"
     ]
    }
   ],
   "source": [
    "print(X_combined_std)"
   ]
  },
  {
   "cell_type": "code",
   "execution_count": 10,
   "metadata": {},
   "outputs": [
    {
     "name": "stdout",
     "output_type": "stream",
     "text": [
      "[1 0 2 0 0 2 0 2 1 1 0 1 1 0 1 2 2 0 1 0 0 2 0 0 1 1 0 2 1 1 2 1 1 1 2 2 2\n",
      " 2 1 1 2 1 2 2 0 0 1 2 2 2 2 0 2 2 2 2 1 2 1 0 1 0 0 0 0 0 1 1 0 1 2 1 2 2\n",
      " 1 2 2 1 2 0 1 1 0 2 0 2 1 1 2 0 0 2 2 1 0 2 0 2 2 0 0 0 0 2 1 1 0 0 2 2 1\n",
      " 2 1 2 2 0 0 2 1 0 2 2 1 1 1 0 2 0 1 0 0 1 0 1 0 1 0 0 0 2 0 1 2 0 1 1 1 0\n",
      " 1 1]\n"
     ]
    }
   ],
   "source": [
    "print(y_combined)"
   ]
  },
  {
   "cell_type": "markdown",
   "metadata": {},
   "source": [
    "## Creating cmap colors tuple"
   ]
  },
  {
   "cell_type": "code",
   "execution_count": 11,
   "metadata": {},
   "outputs": [
    {
     "data": {
      "text/plain": [
       "('red', 'purple', 'yellow')"
      ]
     },
     "execution_count": 11,
     "metadata": {},
     "output_type": "execute_result"
    }
   ],
   "source": [
    "colors = ('red','purple','yellow','green')\n",
    "cmap = ListedColormap(colors[:len(np.unique(y_combined))])\n",
    "cmap.colors"
   ]
  },
  {
   "cell_type": "markdown",
   "metadata": {},
   "source": [
    "## Creating a function for plotting"
   ]
  },
  {
   "cell_type": "code",
   "execution_count": 17,
   "metadata": {},
   "outputs": [],
   "source": [
    "def plot_regions(X, y, classifier):\n",
    "    markers = ('x','>','*')\n",
    "    colors = ('red','purple','yellow','green')\n",
    "    res = 0.02\n",
    "    \n",
    "    #Plot regions\n",
    "    x1min, x1max = X[:,0].min() -1, X[:,0].max() + 1\n",
    "    x2min, x2max = X[:,1].min() -1, X[:,1].max() + 1\n",
    "    xx1, xx2 = np.meshgrid(np.arange(x1min,x1max,res),np.arange(x2min,x2max,res))\n",
    "\n",
    "    output = classifier.predict(np.array([xx1.ravel(), xx2.ravel()]).T)\n",
    "    output = output.reshape(xx1.shape)\n",
    "    \n",
    "    plt.figure(figsize=(8,8))\n",
    "    #plt.pcolormesh(xx1,xx2, output, alpha=0.8, cmap=plt.cm.cool)\n",
    "    plt.contourf(xx1, xx2, output, alpha=0.8, cmap=plt.cm.cool)\n",
    "    \n",
    "    #PLOT ALL SAMPLES\n",
    "    for index, item in enumerate(np.unique(y)):\n",
    "        plt.scatter(x=X[y == item, 0], y=X[y == item, 1],alpha=0.8, c=colors[index], s=50, facecolor='k',\n",
    "        marker=markers[index], label=item)\n",
    "\n",
    "    plt.xlabel('petal length std')\n",
    "    plt.ylabel('petal width std')\n",
    "\n",
    "    plt.xlim(xx1.min(),xx1.max())\n",
    "    plt.ylim(xx2.min(),xx2.max())\n",
    "    plt.legend(loc='best',bbox_to_anchor=(0.5, 1.05), ncol=3,fancybox=True, shadow=True)"
   ]
  },
  {
   "cell_type": "markdown",
   "metadata": {},
   "source": [
    "## Plotting Logistic Regression Regions:"
   ]
  },
  {
   "cell_type": "code",
   "execution_count": 18,
   "metadata": {},
   "outputs": [
    {
     "data": {
      "image/png": "[encoded data removed]",
      "text/plain": [
       "<Figure size 576x576 with 1 Axes>"
      ]
     },
     "metadata": {
      "needs_background": "light"
     },
     "output_type": "display_data"
    }
   ],
   "source": [
    "#Llamada a la funcion\n",
    "lr = LogisticRegression(C=1000.0,solver='lbfgs', multi_class='auto')\n",
    "lr.fit(X_train_std, y_train)\n",
    "plot_regions(X=X_combined_std,y=y_combined,classifier=lr)"
   ]
  },
  {
   "cell_type": "code",
   "execution_count": null,
   "metadata": {},
   "outputs": [],
   "source": []
  }
 ],
 "metadata": {
  "kernelspec": {
   "display_name": "Python(python3.7)",
   "language": "python",
   "name": "python3.7"
  },
  "language_info": {
   "codemirror_mode": {
    "name": "ipython",
    "version": 3
   },
   "file_extension": ".py",
   "mimetype": "text/x-python",
   "name": "python",
   "nbconvert_exporter": "python",
   "pygments_lexer": "ipython3",
   "version": "3.9.7"
  },
  "toc": {
   "base_numbering": 1,
   "nav_menu": {},
   "number_sections": true,
   "sideBar": true,
   "skip_h1_title": false,
   "title_cell": "Table of Contents",
   "title_sidebar": "Contents",
   "toc_cell": false,
   "toc_position": {},
   "toc_section_display": true,
   "toc_window_display": false
  },
  "varInspector": {
   "cols": {
    "lenName": 16,
    "lenType": 16,
    "lenVar": 40
   },
   "kernels_config": {
    "python": {
     "delete_cmd_postfix": "",
     "delete_cmd_prefix": "del ",
     "library": "var_list.py",
     "varRefreshCmd": "print(var_dic_list())"
    },
    "r": {
     "delete_cmd_postfix": ") ",
     "delete_cmd_prefix": "rm(",
     "library": "var_list.r",
     "varRefreshCmd": "cat(var_dic_list()) "
    }
   },
   "types_to_exclude": [
    "module",
    "function",
    "builtin_function_or_method",
    "instance",
    "_Feature"
   ],
   "window_display": false
  }
 },
 "nbformat": 4,
 "nbformat_minor": 2
}
