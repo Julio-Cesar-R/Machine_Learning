{
 "cells": [
  {
   "cell_type": "markdown",
   "metadata": {},
   "source": [
    "<center><u><H1>Hyperparameter Optimization: GridSearchCV</H1></u></center>"
   ]
  },
  {
   "cell_type": "code",
   "execution_count": 1,
   "metadata": {},
   "outputs": [],
   "source": [
    "from sklearn.datasets import load_iris\n",
    "from sklearn.preprocessing import StandardScaler\n",
    "import matplotlib.pyplot as plt\n",
    "import numpy as np\n",
    "%matplotlib inline"
   ]
  },
  {
   "cell_type": "markdown",
   "metadata": {},
   "source": [
    "## Data:"
   ]
  },
  {
   "cell_type": "code",
   "execution_count": 2,
   "metadata": {},
   "outputs": [],
   "source": [
    "iris = load_iris()\n",
    "X=iris.data\n",
    "y=iris.target"
   ]
  },
  {
   "cell_type": "code",
   "execution_count": 3,
   "metadata": {},
   "outputs": [],
   "source": [
    "sc = StandardScaler()\n",
    "X_std = sc.fit_transform(X)"
   ]
  },
  {
   "cell_type": "markdown",
   "metadata": {},
   "source": [
    "## Models:"
   ]
  },
  {
   "cell_type": "code",
   "execution_count": 4,
   "metadata": {},
   "outputs": [],
   "source": [
    "from sklearn.neighbors import KNeighborsClassifier as KNN\n",
    "from sklearn.svm import SVC\n",
    "from sklearn.linear_model import LogisticRegression\n",
    "from sklearn.ensemble import RandomForestClassifier"
   ]
  },
  {
   "cell_type": "code",
   "execution_count": 5,
   "metadata": {},
   "outputs": [],
   "source": [
    "svm = SVC()\n",
    "knn = KNN()\n",
    "lr = LogisticRegression()\n",
    "rf = RandomForestClassifier()"
   ]
  },
  {
   "cell_type": "code",
   "execution_count": 21,
   "metadata": {},
   "outputs": [],
   "source": [
    "from sklearn.model_selection import GridSearchCV\n",
    "clf_svm = GridSearchCV(svm, {'kernel':['linear', 'poly','rbf'], 'C':[1, 10, 100], 'gamma':[0.1, 1.0, 10]}, cv=5)\n",
    "clf_knn = GridSearchCV(knn, {'n_neighbors':[2, 5, 8, 10]}, cv=5)\n",
    "clf_lr = GridSearchCV(lr, {'C':[1000, 100, 10, 1], 'solver':['lbfgs', 'newton-cg'], 'multi_class':['auto','multinomial']}, cv=5)\n",
    "clf_rf = GridSearchCV(rf, {'n_estimators':[50,100,500,1000]}, cv=5)"
   ]
  },
  {
   "cell_type": "code",
   "execution_count": 22,
   "metadata": {},
   "outputs": [
    {
     "data": {
      "text/plain": [
       "GridSearchCV(cv=5, error_score='raise-deprecating',\n",
       "             estimator=RandomForestClassifier(bootstrap=True, class_weight=None,\n",
       "                                              criterion='gini', max_depth=None,\n",
       "                                              max_features='auto',\n",
       "                                              max_leaf_nodes=None,\n",
       "                                              min_impurity_decrease=0.0,\n",
       "                                              min_impurity_split=None,\n",
       "                                              min_samples_leaf=1,\n",
       "                                              min_samples_split=2,\n",
       "                                              min_weight_fraction_leaf=0.0,\n",
       "                                              n_estimators='warn', n_jobs=None,\n",
       "                                              oob_score=False,\n",
       "                                              random_state=None, verbose=0,\n",
       "                                              warm_start=False),\n",
       "             iid='warn', n_jobs=None,\n",
       "             param_grid={'n_estimators': [50, 100, 500, 1000]},\n",
       "             pre_dispatch='2*n_jobs', refit=True, return_train_score=False,\n",
       "             scoring=None, verbose=0)"
      ]
     },
     "execution_count": 22,
     "metadata": {},
     "output_type": "execute_result"
    }
   ],
   "source": [
    "clf_svm.fit(X_std, y)\n",
    "clf_knn.fit(X_std, y)\n",
    "clf_lr.fit(X_std, y)\n",
    "clf_rf.fit(X_std, y)"
   ]
  },
  {
   "cell_type": "markdown",
   "metadata": {},
   "source": [
    "## Best Params:"
   ]
  },
  {
   "cell_type": "code",
   "execution_count": 23,
   "metadata": {},
   "outputs": [
    {
     "name": "stdout",
     "output_type": "stream",
     "text": [
      "Logistic Regression: {'C': 1000, 'multi_class': 'auto', 'solver': 'lbfgs'}\n"
     ]
    }
   ],
   "source": [
    "print(f\"Logistic Regression: {clf_lr.best_params_}\")"
   ]
  },
  {
   "cell_type": "code",
   "execution_count": 24,
   "metadata": {},
   "outputs": [
    {
     "name": "stdout",
     "output_type": "stream",
     "text": [
      "KNN: {'n_neighbors': 8}\n"
     ]
    }
   ],
   "source": [
    "print(f\"KNN: {clf_knn.best_params_}\")"
   ]
  },
  {
   "cell_type": "code",
   "execution_count": 25,
   "metadata": {},
   "outputs": [
    {
     "name": "stdout",
     "output_type": "stream",
     "text": [
      "Support Vector Machines: {'C': 1, 'gamma': 0.1, 'kernel': 'rbf'}\n"
     ]
    }
   ],
   "source": [
    "print(f\"Support Vector Machines: {clf_svm.best_params_}\")"
   ]
  },
  {
   "cell_type": "code",
   "execution_count": 26,
   "metadata": {},
   "outputs": [
    {
     "name": "stdout",
     "output_type": "stream",
     "text": [
      "Random Forest: {'n_estimators': 50}\n"
     ]
    }
   ],
   "source": [
    "print(f\"Random Forest: {clf_rf.best_params_}\")"
   ]
  },
  {
   "cell_type": "code",
   "execution_count": 30,
   "metadata": {},
   "outputs": [
    {
     "name": "stdout",
     "output_type": "stream",
     "text": [
      "0.973 +/-0.065 for {'C': 1000, 'multi_class': 'auto', 'solver': 'lbfgs'}\n",
      "0.973 +/-0.065 for {'C': 1000, 'multi_class': 'auto', 'solver': 'newton-cg'}\n",
      "0.973 +/-0.065 for {'C': 1000, 'multi_class': 'multinomial', 'solver': 'lbfgs'}\n",
      "0.973 +/-0.065 for {'C': 1000, 'multi_class': 'multinomial', 'solver': 'newton-cg'}\n",
      "0.973 +/-0.065 for {'C': 100, 'multi_class': 'auto', 'solver': 'lbfgs'}\n",
      "0.973 +/-0.065 for {'C': 100, 'multi_class': 'auto', 'solver': 'newton-cg'}\n",
      "0.973 +/-0.065 for {'C': 100, 'multi_class': 'multinomial', 'solver': 'lbfgs'}\n",
      "0.973 +/-0.065 for {'C': 100, 'multi_class': 'multinomial', 'solver': 'newton-cg'}\n",
      "0.973 +/-0.065 for {'C': 10, 'multi_class': 'auto', 'solver': 'lbfgs'}\n",
      "0.973 +/-0.065 for {'C': 10, 'multi_class': 'auto', 'solver': 'newton-cg'}\n",
      "0.973 +/-0.065 for {'C': 10, 'multi_class': 'multinomial', 'solver': 'lbfgs'}\n",
      "0.973 +/-0.065 for {'C': 10, 'multi_class': 'multinomial', 'solver': 'newton-cg'}\n",
      "0.960 +/-0.078 for {'C': 1, 'multi_class': 'auto', 'solver': 'lbfgs'}\n",
      "0.960 +/-0.078 for {'C': 1, 'multi_class': 'auto', 'solver': 'newton-cg'}\n",
      "0.960 +/-0.078 for {'C': 1, 'multi_class': 'multinomial', 'solver': 'lbfgs'}\n",
      "0.960 +/-0.078 for {'C': 1, 'multi_class': 'multinomial', 'solver': 'newton-cg'}\n"
     ]
    }
   ],
   "source": [
    "# Logistic Regression\n",
    "means = clf_lr.cv_results_['mean_test_score']\n",
    "stds = clf_lr.cv_results_['std_test_score']\n",
    "for mean, std, params in zip(means, stds, clf_lr.cv_results_['params']):\n",
    "    print(\"{0:0.3f} +/-{1:0.03f} for {2}\".format(mean, std * 2, params))"
   ]
  },
  {
   "cell_type": "code",
   "execution_count": 31,
   "metadata": {},
   "outputs": [
    {
     "name": "stdout",
     "output_type": "stream",
     "text": [
      "0.947 +/-0.080 for {'n_neighbors': 2}\n",
      "0.960 +/-0.050 for {'n_neighbors': 5}\n",
      "0.967 +/-0.042 for {'n_neighbors': 8}\n",
      "0.960 +/-0.027 for {'n_neighbors': 10}\n"
     ]
    }
   ],
   "source": [
    "# KNN\n",
    "means = clf_knn.cv_results_['mean_test_score']\n",
    "stds = clf_knn.cv_results_['std_test_score']\n",
    "for mean, std, params in zip(means, stds, clf_knn.cv_results_['params']):\n",
    "    print(\"{0:0.3f} +/-{1:0.03f} for {2}\".format(mean, std * 2, params))\n",
    "    #print(\"%0.3f (+/-%0.03f) for %r\" % (mean, std * 2, params))"
   ]
  },
  {
   "cell_type": "code",
   "execution_count": 32,
   "metadata": {},
   "outputs": [
    {
     "name": "stdout",
     "output_type": "stream",
     "text": [
      "0.967 +/-0.060 for {'C': 1, 'gamma': 0.1, 'kernel': 'linear'}\n",
      "0.827 +/-0.078 for {'C': 1, 'gamma': 0.1, 'kernel': 'poly'}\n",
      "0.973 +/-0.050 for {'C': 1, 'gamma': 0.1, 'kernel': 'rbf'}\n",
      "0.967 +/-0.060 for {'C': 1, 'gamma': 1.0, 'kernel': 'linear'}\n",
      "0.973 +/-0.050 for {'C': 1, 'gamma': 1.0, 'kernel': 'poly'}\n",
      "0.947 +/-0.053 for {'C': 1, 'gamma': 1.0, 'kernel': 'rbf'}\n",
      "0.967 +/-0.060 for {'C': 1, 'gamma': 10, 'kernel': 'linear'}\n",
      "0.947 +/-0.080 for {'C': 1, 'gamma': 10, 'kernel': 'poly'}\n",
      "0.900 +/-0.112 for {'C': 1, 'gamma': 10, 'kernel': 'rbf'}\n",
      "0.960 +/-0.078 for {'C': 10, 'gamma': 0.1, 'kernel': 'linear'}\n",
      "0.900 +/-0.060 for {'C': 10, 'gamma': 0.1, 'kernel': 'poly'}\n",
      "0.973 +/-0.065 for {'C': 10, 'gamma': 0.1, 'kernel': 'rbf'}\n",
      "0.960 +/-0.078 for {'C': 10, 'gamma': 1.0, 'kernel': 'linear'}\n",
      "0.960 +/-0.065 for {'C': 10, 'gamma': 1.0, 'kernel': 'poly'}\n",
      "0.953 +/-0.033 for {'C': 10, 'gamma': 1.0, 'kernel': 'rbf'}\n",
      "0.960 +/-0.078 for {'C': 10, 'gamma': 10, 'kernel': 'linear'}\n",
      "0.947 +/-0.080 for {'C': 10, 'gamma': 10, 'kernel': 'poly'}\n",
      "0.907 +/-0.129 for {'C': 10, 'gamma': 10, 'kernel': 'rbf'}\n",
      "0.967 +/-0.084 for {'C': 100, 'gamma': 0.1, 'kernel': 'linear'}\n",
      "0.960 +/-0.078 for {'C': 100, 'gamma': 0.1, 'kernel': 'poly'}\n",
      "0.960 +/-0.078 for {'C': 100, 'gamma': 0.1, 'kernel': 'rbf'}\n",
      "0.967 +/-0.084 for {'C': 100, 'gamma': 1.0, 'kernel': 'linear'}\n",
      "0.947 +/-0.080 for {'C': 100, 'gamma': 1.0, 'kernel': 'poly'}\n",
      "0.953 +/-0.033 for {'C': 100, 'gamma': 1.0, 'kernel': 'rbf'}\n",
      "0.967 +/-0.084 for {'C': 100, 'gamma': 10, 'kernel': 'linear'}\n",
      "0.947 +/-0.080 for {'C': 100, 'gamma': 10, 'kernel': 'poly'}\n",
      "0.907 +/-0.129 for {'C': 100, 'gamma': 10, 'kernel': 'rbf'}\n"
     ]
    }
   ],
   "source": [
    "# Support Vector Machines\n",
    "means = clf_svm.cv_results_['mean_test_score']\n",
    "stds = clf_svm.cv_results_['std_test_score']\n",
    "for mean, std, params in zip(means, stds, clf_svm.cv_results_['params']):\n",
    "    print(\"{0:0.3f} +/-{1:0.03f} for {2}\".format(mean, std * 2, params))"
   ]
  },
  {
   "cell_type": "code",
   "execution_count": 33,
   "metadata": {},
   "outputs": [
    {
     "name": "stdout",
     "output_type": "stream",
     "text": [
      "0.960 +/-0.050 for {'n_estimators': 50}\n",
      "0.953 +/-0.068 for {'n_estimators': 100}\n",
      "0.960 +/-0.050 for {'n_estimators': 500}\n",
      "0.960 +/-0.050 for {'n_estimators': 1000}\n"
     ]
    }
   ],
   "source": [
    "# Random Forest\n",
    "means = clf_rf.cv_results_['mean_test_score']\n",
    "stds = clf_rf.cv_results_['std_test_score']\n",
    "for mean, std, params in zip(means, stds, clf_rf.cv_results_['params']):\n",
    "    print(\"{0:0.3f} +/-{1:0.03f} for {2}\".format(mean, std * 2, params))\n",
    "    #print(\"%0.3f (+/-%0.03f) for %r\" % (mean, std * 2, params))"
   ]
  },
  {
   "cell_type": "markdown",
   "metadata": {},
   "source": [
    "## Reference:\n",
    "http://scikit-learn.org/stable/modules/grid_search.html"
   ]
  }
 ],
 "metadata": {
  "kernelspec": {
   "display_name": "py3.7",
   "language": "python",
   "name": "py37"
  },
  "language_info": {
   "codemirror_mode": {
    "name": "ipython",
    "version": 3
   },
   "file_extension": ".py",
   "mimetype": "text/x-python",
   "name": "python",
   "nbconvert_exporter": "python",
   "pygments_lexer": "ipython3",
   "version": "3.7.4"
  },
  "toc": {
   "base_numbering": 1,
   "nav_menu": {},
   "number_sections": true,
   "sideBar": true,
   "skip_h1_title": false,
   "title_cell": "Table of Contents",
   "title_sidebar": "Contents",
   "toc_cell": false,
   "toc_position": {},
   "toc_section_display": true,
   "toc_window_display": false
  },
  "varInspector": {
   "cols": {
    "lenName": 16,
    "lenType": 16,
    "lenVar": 40
   },
   "kernels_config": {
    "python": {
     "delete_cmd_postfix": "",
     "delete_cmd_prefix": "del ",
     "library": "var_list.py",
     "varRefreshCmd": "print(var_dic_list())"
    },
    "r": {
     "delete_cmd_postfix": ") ",
     "delete_cmd_prefix": "rm(",
     "library": "var_list.r",
     "varRefreshCmd": "cat(var_dic_list()) "
    }
   },
   "types_to_exclude": [
    "module",
    "function",
    "builtin_function_or_method",
    "instance",
    "_Feature"
   ],
   "window_display": false
  }
 },
 "nbformat": 4,
 "nbformat_minor": 2
}
