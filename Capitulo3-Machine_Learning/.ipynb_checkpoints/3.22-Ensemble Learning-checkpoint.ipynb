{
 "cells": [
  {
   "cell_type": "code",
   "execution_count": 1,
   "metadata": {},
   "outputs": [],
   "source": [
    "from sklearn.datasets import load_iris\n",
    "from sklearn.preprocessing import StandardScaler\n",
    "from sklearn.model_selection import train_test_split\n",
    "from sklearn.metrics import accuracy_score, confusion_matrix\n",
    "from sklearn.model_selection import cross_val_score\n",
    "from sklearn.linear_model import LogisticRegression\n",
    "from sklearn.naive_bayes import GaussianNB\n",
    "from sklearn.svm import SVC\n",
    "from sklearn.tree import DecisionTreeClassifier\n",
    "from sklearn.ensemble import RandomForestClassifier, VotingClassifier\n",
    "from sklearn.ensemble import AdaBoostClassifier\n",
    "from sklearn.ensemble import GradientBoostingClassifier\n",
    "import xgboost as xgb\n",
    "import matplotlib.pyplot as plt\n",
    "import numpy as np\n",
    "%matplotlib inline"
   ]
  },
  {
   "cell_type": "markdown",
   "metadata": {},
   "source": [
    "## Load the data:"
   ]
  },
  {
   "cell_type": "code",
   "execution_count": 2,
   "metadata": {},
   "outputs": [],
   "source": [
    "iris = load_iris()\n",
    "X=iris.data\n",
    "y=iris.target"
   ]
  },
  {
   "cell_type": "markdown",
   "metadata": {},
   "source": [
    "## Preprocessing the data:"
   ]
  },
  {
   "cell_type": "code",
   "execution_count": 3,
   "metadata": {},
   "outputs": [],
   "source": [
    "X_train, X_test, y_train, y_test = train_test_split(X, y, test_size=0.30, random_state=2019)"
   ]
  },
  {
   "cell_type": "code",
   "execution_count": 4,
   "metadata": {},
   "outputs": [],
   "source": [
    "sc = StandardScaler()\n",
    "X_std = sc.fit_transform(X)\n",
    "X_train_std = sc.transform(X_train)\n",
    "X_test_std = sc.transform(X_test)"
   ]
  },
  {
   "cell_type": "markdown",
   "metadata": {},
   "source": [
    "## Creating models:"
   ]
  },
  {
   "cell_type": "code",
   "execution_count": 5,
   "metadata": {},
   "outputs": [],
   "source": [
    "lr = LogisticRegression(C=1.0, solver='lbfgs', multi_class='auto',random_state=2019)\n",
    "nb = GaussianNB()\n",
    "svm = SVC(C=1.0, gamma='scale', kernel='rbf', probability=True)\n",
    "dt = DecisionTreeClassifier(criterion='entropy',max_depth=3)\n",
    "rf = RandomForestClassifier(n_estimators=500, random_state=2019)\n",
    "ada = AdaBoostClassifier(base_estimator=dt, n_estimators=500, learning_rate=0.05, random_state=2019)\n",
    "gb = GradientBoostingClassifier(n_estimators=500, max_depth=3, learning_rate=0.05, random_state=2019)\n",
    "xgb = xgb.XGBClassifier(objective=\"multi:softprob\", \n",
    "                        max_depth=3,\n",
    "                        n_estimators=500,\n",
    "                        eta=0.1,\n",
    "                        random_state=2019,\n",
    "                        )"
   ]
  },
  {
   "cell_type": "code",
   "execution_count": 6,
   "metadata": {},
   "outputs": [],
   "source": [
    "# Hard voting and Soft voting: \n",
    "vc = VotingClassifier(estimators=[('lr', lr), ('nb', nb),\n",
    "                                  ('svm', svm), ('dt', dt),\n",
    "                                  ('rf', rf), ('ada', ada),\n",
    "                                  ('gb', gb), ('xgb', xgb)], voting='soft')"
   ]
  },
  {
   "cell_type": "code",
   "execution_count": 7,
   "metadata": {},
   "outputs": [
    {
     "data": {
      "text/plain": [
       "VotingClassifier(estimators=[('lr',\n",
       "                              LogisticRegression(C=1.0, class_weight=None,\n",
       "                                                 dual=False, fit_intercept=True,\n",
       "                                                 intercept_scaling=1,\n",
       "                                                 l1_ratio=None, max_iter=100,\n",
       "                                                 multi_class='auto',\n",
       "                                                 n_jobs=None, penalty='l2',\n",
       "                                                 random_state=2019,\n",
       "                                                 solver='lbfgs', tol=0.0001,\n",
       "                                                 verbose=0, warm_start=False)),\n",
       "                             ('nb',\n",
       "                              GaussianNB(priors=None, var_smoothing=1e-09)),\n",
       "                             ('svm',\n",
       "                              SVC(C=1.0, cache_size...\n",
       "                                            colsample_bytree=1, eta=0.1,\n",
       "                                            gamma=0, learning_rate=0.1,\n",
       "                                            max_delta_step=0, max_depth=3,\n",
       "                                            min_child_weight=1, missing=None,\n",
       "                                            n_estimators=500, n_jobs=1,\n",
       "                                            nthread=None,\n",
       "                                            objective='multi:softprob',\n",
       "                                            random_state=2019, reg_alpha=0,\n",
       "                                            reg_lambda=1, scale_pos_weight=1,\n",
       "                                            seed=None, silent=None, subsample=1,\n",
       "                                            verbosity=1))],\n",
       "                 flatten_transform=True, n_jobs=None, voting='soft',\n",
       "                 weights=None)"
      ]
     },
     "execution_count": 7,
     "metadata": {},
     "output_type": "execute_result"
    }
   ],
   "source": [
    "vc.fit(X_std, y)"
   ]
  },
  {
   "cell_type": "markdown",
   "metadata": {},
   "source": [
    "## Metrics:"
   ]
  },
  {
   "cell_type": "code",
   "execution_count": 8,
   "metadata": {},
   "outputs": [],
   "source": [
    "vc_pred = vc.predict(X_test_std)"
   ]
  },
  {
   "cell_type": "code",
   "execution_count": 9,
   "metadata": {},
   "outputs": [
    {
     "name": "stdout",
     "output_type": "stream",
     "text": [
      "Voting Classifier: Test accuracy: 1.000\n"
     ]
    }
   ],
   "source": [
    "print(f\"Voting Classifier: Test accuracy: {accuracy_score(y_test, vc_pred):.3f}\")"
   ]
  },
  {
   "cell_type": "code",
   "execution_count": 10,
   "metadata": {},
   "outputs": [
    {
     "name": "stdout",
     "output_type": "stream",
     "text": [
      "Cross Val Scores:[1.         0.93333333 1.         0.93333333 0.93333333 0.93333333\n",
      " 0.93333333 1.         1.         1.        ]\n"
     ]
    }
   ],
   "source": [
    "scores = cross_val_score(vc, X_std, y, cv=10)\n",
    "print(f\"Cross Val Scores:{scores}\")"
   ]
  },
  {
   "cell_type": "code",
   "execution_count": 11,
   "metadata": {},
   "outputs": [
    {
     "name": "stdout",
     "output_type": "stream",
     "text": [
      "Cross Val Scores Mean:0.9666666666666666 / Cross Val Scores Std:0.033333333333333326\n"
     ]
    }
   ],
   "source": [
    "print(f\"Cross Val Scores Mean:{scores.mean()} / Cross Val Scores Std:{scores.std()}\")"
   ]
  },
  {
   "cell_type": "markdown",
   "metadata": {},
   "source": [
    "## Plotting decision boundaries"
   ]
  },
  {
   "cell_type": "code",
   "execution_count": 12,
   "metadata": {},
   "outputs": [
    {
     "data": {
      "image/png": "[encoded data removed]",
      "text/plain": [
       "<Figure size 1224x360 with 4 Axes>"
      ]
     },
     "metadata": {
      "needs_background": "light"
     },
     "output_type": "display_data"
    }
   ],
   "source": [
    "fig, axs = plt.subplots(1, 4, figsize=(17, 5))\n",
    "n_classes = len(np.unique(y))\n",
    "plot_colors = [\"red\",\"yellow\",\"black\"]\n",
    "\n",
    "res = 0.02\n",
    "X2D = X_std[:,[2,3]]\n",
    "\n",
    "x1min, x1max = X2D[:,0].min() -1, X2D[:,0].max() + 1\n",
    "x2min, x2max = X2D[:,1].min() -1, X2D[:,1].max() + 1\n",
    "xx1, xx2 = np.meshgrid(np.arange(x1min,x1max,res),np.arange(x2min,x2max,res))\n",
    "\n",
    "for clf, ax, title in zip([dt, ada, xgb, vc], axs, ['Decision Tree','AdaBoost','XGBoost', 'Voting Classifier']):\n",
    "    clf.fit(X2D, y)\n",
    "    output = clf.predict(np.array([xx1.ravel(), xx2.ravel()]).T)\n",
    "    output = output.reshape(xx1.shape)\n",
    "    ax.pcolormesh(xx1,xx2, output, cmap=plt.cm.bwr)\n",
    "    ax.set_title(title)  \n",
    "    \n",
    "    for cl, color in zip(range(n_classes), plot_colors):  \n",
    "        ax.scatter(X2D[y==cl, 0], X2D[y==cl, 1], s=30, marker='o', c=color, edgecolor='k', label=iris.target_names[cl])\n",
    "        ax.legend(loc='best', fancybox=True)"
   ]
  },
  {
   "cell_type": "markdown",
   "metadata": {},
   "source": [
    "## References:\n",
    "\n",
    "- https://scikit-learn.org/stable/modules/generated/sklearn.ensemble.VotingClassifier.html"
   ]
  }
 ],
 "metadata": {
  "kernelspec": {
   "display_name": "py3.7",
   "language": "python",
   "name": "py37"
  },
  "language_info": {
   "codemirror_mode": {
    "name": "ipython",
    "version": 3
   },
   "file_extension": ".py",
   "mimetype": "text/x-python",
   "name": "python",
   "nbconvert_exporter": "python",
   "pygments_lexer": "ipython3",
   "version": "3.7.4"
  },
  "toc": {
   "base_numbering": 1,
   "nav_menu": {},
   "number_sections": true,
   "sideBar": true,
   "skip_h1_title": false,
   "title_cell": "Table of Contents",
   "title_sidebar": "Contents",
   "toc_cell": false,
   "toc_position": {},
   "toc_section_display": true,
   "toc_window_display": false
  },
  "varInspector": {
   "cols": {
    "lenName": 16,
    "lenType": 16,
    "lenVar": 40
   },
   "kernels_config": {
    "python": {
     "delete_cmd_postfix": "",
     "delete_cmd_prefix": "del ",
     "library": "var_list.py",
     "varRefreshCmd": "print(var_dic_list())"
    },
    "r": {
     "delete_cmd_postfix": ") ",
     "delete_cmd_prefix": "rm(",
     "library": "var_list.r",
     "varRefreshCmd": "cat(var_dic_list()) "
    }
   },
   "types_to_exclude": [
    "module",
    "function",
    "builtin_function_or_method",
    "instance",
    "_Feature"
   ],
   "window_display": false
  }
 },
 "nbformat": 4,
 "nbformat_minor": 2
}
