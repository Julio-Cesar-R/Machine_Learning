{
 "cells": [
  {
   "cell_type": "markdown",
   "id": "e7d18aef",
   "metadata": {},
   "source": [
    "# Libreria numpy"
   ]
  },
  {
   "cell_type": "code",
   "execution_count": 2,
   "id": "e1e21736",
   "metadata": {},
   "outputs": [],
   "source": [
    "import numpy as np"
   ]
  },
  {
   "cell_type": "code",
   "execution_count": 3,
   "id": "c4d82ea0",
   "metadata": {},
   "outputs": [
    {
     "data": {
      "text/plain": [
       "array([[1, 2, 3],\n",
       "       [4, 5, 6],\n",
       "       [7, 8, 9]])"
      ]
     },
     "execution_count": 3,
     "metadata": {},
     "output_type": "execute_result"
    }
   ],
   "source": [
    "array=np.array([[1,2,3],[4,5,6],[7,8,9]])\n",
    "array"
   ]
  },
  {
   "cell_type": "code",
   "execution_count": 4,
   "id": "c8b7a3cc",
   "metadata": {},
   "outputs": [
    {
     "data": {
      "text/plain": [
       "2"
      ]
     },
     "execution_count": 4,
     "metadata": {},
     "output_type": "execute_result"
    }
   ],
   "source": [
    "#Numero de dimenciones que tiene el arreglo\n",
    "array.ndim"
   ]
  },
  {
   "cell_type": "code",
   "execution_count": 15,
   "id": "2635cbf2",
   "metadata": {},
   "outputs": [
    {
     "data": {
      "text/plain": [
       "(3, 3)"
      ]
     },
     "execution_count": 15,
     "metadata": {},
     "output_type": "execute_result"
    }
   ],
   "source": [
    "#El primer valor que se mostrara seran las filas y las columnas\n",
    "array.shape"
   ]
  },
  {
   "cell_type": "code",
   "execution_count": 16,
   "id": "031e7de4",
   "metadata": {},
   "outputs": [
    {
     "data": {
      "text/plain": [
       "9"
      ]
     },
     "execution_count": 16,
     "metadata": {},
     "output_type": "execute_result"
    }
   ],
   "source": [
    "#Numero de posiciones que tiene el arreglo\n",
    "array.size"
   ]
  },
  {
   "cell_type": "code",
   "execution_count": 17,
   "id": "89be54cb",
   "metadata": {},
   "outputs": [
    {
     "data": {
      "text/plain": [
       "'int32'"
      ]
     },
     "execution_count": 17,
     "metadata": {},
     "output_type": "execute_result"
    }
   ],
   "source": [
    "#Muestra el tipo de valore que contiene el arreglo\n",
    "array.dtype.name"
   ]
  },
  {
   "cell_type": "markdown",
   "id": "c1f77064",
   "metadata": {},
   "source": [
    "## Operaciones matematicas"
   ]
  },
  {
   "cell_type": "code",
   "execution_count": 25,
   "id": "1257ef28",
   "metadata": {},
   "outputs": [
    {
     "data": {
      "text/plain": [
       "array([3, 3, 3, 3])"
      ]
     },
     "execution_count": 25,
     "metadata": {},
     "output_type": "execute_result"
    }
   ],
   "source": [
    "#Suma de dos arreglos, considera que deben ser de las mismas dimenciones\n",
    "#Lo mismo aplica para cualquier otra operacion basica.\n",
    "array_a=np.array([1,1,1,1])\n",
    "array_b=np.array([2,2,2,2])\n",
    "a+b"
   ]
  },
  {
   "cell_type": "code",
   "execution_count": 26,
   "id": "2703d91d",
   "metadata": {},
   "outputs": [
    {
     "data": {
      "text/plain": [
       "array([4, 4, 4, 4], dtype=int32)"
      ]
     },
     "execution_count": 26,
     "metadata": {},
     "output_type": "execute_result"
    }
   ],
   "source": [
    "#Elevar al cuadrado un arreglo\n",
    "array_b**2"
   ]
  },
  {
   "cell_type": "code",
   "execution_count": 27,
   "id": "1a2df5d7",
   "metadata": {},
   "outputs": [
    {
     "data": {
      "text/plain": [
       "array([4, 4, 4, 4], dtype=int32)"
      ]
     },
     "execution_count": 27,
     "metadata": {},
     "output_type": "execute_result"
    }
   ],
   "source": [
    "#Elevar al cuadrado un arreglo\n",
    "np.square(array_b)"
   ]
  },
  {
   "cell_type": "code",
   "execution_count": 32,
   "id": "0eb20193",
   "metadata": {},
   "outputs": [
    {
     "data": {
      "text/plain": [
       "array([-2.18503986, -2.18503986, -2.18503986, -2.18503986])"
      ]
     },
     "execution_count": 32,
     "metadata": {},
     "output_type": "execute_result"
    }
   ],
   "source": [
    "#Funciones trigonometricas (sin,cos,tan)\n",
    "np.tan(array_b)"
   ]
  },
  {
   "cell_type": "code",
   "execution_count": 33,
   "id": "a4429c98",
   "metadata": {},
   "outputs": [
    {
     "data": {
      "text/plain": [
       "array([ True,  True,  True,  True])"
      ]
     },
     "execution_count": 33,
     "metadata": {},
     "output_type": "execute_result"
    }
   ],
   "source": [
    "#Operaciones condicionales (retornar true o false para cada una de las posiciones)\n",
    "array_b>array_a"
   ]
  },
  {
   "cell_type": "code",
   "execution_count": 34,
   "id": "0225ca16",
   "metadata": {},
   "outputs": [
    {
     "data": {
      "text/plain": [
       "array([[-1,  0],\n",
       "       [ 0,  1]])"
      ]
     },
     "execution_count": 34,
     "metadata": {},
     "output_type": "execute_result"
    }
   ],
   "source": [
    "#Multiplicacion de matrices\n",
    "M1 = np.array([[1,2],[0,1]])\n",
    "M2 = np.array([[-1,0],[1,1]])\n",
    "M1*M2"
   ]
  },
  {
   "cell_type": "code",
   "execution_count": 36,
   "id": "562d4970",
   "metadata": {},
   "outputs": [
    {
     "data": {
      "text/plain": [
       "array([[1, 2],\n",
       "       [1, 1]])"
      ]
     },
     "execution_count": 36,
     "metadata": {},
     "output_type": "execute_result"
    }
   ],
   "source": [
    "#Se obtiene el producto\n",
    "np.dot(M1,M2)"
   ]
  },
  {
   "cell_type": "code",
   "execution_count": 39,
   "id": "d242ece3",
   "metadata": {},
   "outputs": [
    {
     "data": {
      "text/plain": [
       "array([1.5, 0.8, nan, 3.5, nan, nan])"
      ]
     },
     "execution_count": 39,
     "metadata": {},
     "output_type": "execute_result"
    }
   ],
   "source": [
    "#Valores nulos (np.nan)\n",
    "arr = np.array([1.5, 0.8, np.nan, 3.5,np.nan,np.nan])\n",
    "arr"
   ]
  },
  {
   "cell_type": "code",
   "execution_count": 40,
   "id": "c756d0bb",
   "metadata": {},
   "outputs": [
    {
     "data": {
      "text/plain": [
       "array([1.5, 0.8, 0. , 3.5, 0. , 0. ])"
      ]
     },
     "execution_count": 40,
     "metadata": {},
     "output_type": "execute_result"
    }
   ],
   "source": [
    "#Sustituir valores nulos dentro de un arreglo en este caso por  0\n",
    "arr[np.isnan(arr)] = 0\n",
    "arr"
   ]
  },
  {
   "cell_type": "code",
   "execution_count": 41,
   "id": "25448802",
   "metadata": {},
   "outputs": [],
   "source": [
    "#Lista \n",
    "list = [1,3,-0.5,7,-3,15.4,8.2,7.5]"
   ]
  },
  {
   "cell_type": "code",
   "execution_count": 42,
   "id": "1d4780c3",
   "metadata": {},
   "outputs": [
    {
     "data": {
      "text/plain": [
       "array([ 1. ,  3. , -0.5,  7. , -3. , 15.4,  8.2,  7.5])"
      ]
     },
     "execution_count": 42,
     "metadata": {},
     "output_type": "execute_result"
    }
   ],
   "source": [
    "#Transformar una lista en un arreglo\n",
    "array=np.array(list)\n",
    "array"
   ]
  },
  {
   "cell_type": "code",
   "execution_count": 43,
   "id": "a8f6100b",
   "metadata": {},
   "outputs": [
    {
     "name": "stdout",
     "output_type": "stream",
     "text": [
      "Mean: 4.825\n",
      "Median: 5.0\n",
      "Range (Max-Min): 18.4\n",
      "Standard deviation: 5.507438152172024\n",
      "80th percentile: 7.92\n",
      "0.3-quantile: 1.2000000000000002\n"
     ]
    }
   ],
   "source": [
    "print('Mean:', array.mean())\n",
    "print('Median:', np.median(array))\n",
    "print('Range (Max-Min):', np.ptp(array))\n",
    "print('Standard deviation:', array.std())\n",
    "print('80th percentile:', np.percentile(array, 80))\n",
    "print('0.3-quantile:', np.quantile(array, 0.3))"
   ]
  },
  {
   "cell_type": "code",
   "execution_count": 50,
   "id": "6413595e",
   "metadata": {},
   "outputs": [
    {
     "data": {
      "text/plain": [
       "(4.825, 5.0, 18.4, 5.507438152172024, 7.92, 1.2000000000000002)"
      ]
     },
     "execution_count": 50,
     "metadata": {},
     "output_type": "execute_result"
    }
   ],
   "source": [
    "array.mean(),np.median(array),np.ptp(array),array.std(),np.percentile(array, 80),np.quantile(array, 0.3)"
   ]
  },
  {
   "cell_type": "code",
   "execution_count": 52,
   "id": "f6362ba5",
   "metadata": {},
   "outputs": [
    {
     "data": {
      "text/plain": [
       "8"
      ]
     },
     "execution_count": 52,
     "metadata": {},
     "output_type": "execute_result"
    }
   ],
   "source": [
    "#Busqueda de posiciones dentro de un arreglo\n",
    "a = np.array([[3,4,5],[7,8,3],[0,3,23],[8,11,6]])\n",
    "a[1][1]"
   ]
  },
  {
   "cell_type": "code",
   "execution_count": 53,
   "id": "87497205",
   "metadata": {},
   "outputs": [
    {
     "data": {
      "text/plain": [
       "array([[ 3,  4,  5],\n",
       "       [ 7,  8,  3],\n",
       "       [ 0,  3, 23],\n",
       "       [ 8, 11,  6]])"
      ]
     },
     "execution_count": 53,
     "metadata": {},
     "output_type": "execute_result"
    }
   ],
   "source": [
    "#visualizamos el arreglo denominado como \"a\"\n",
    "a"
   ]
  },
  {
   "cell_type": "code",
   "execution_count": 54,
   "id": "1b142d60",
   "metadata": {},
   "outputs": [
    {
     "data": {
      "text/plain": [
       "array([3, 4])"
      ]
     },
     "execution_count": 54,
     "metadata": {},
     "output_type": "execute_result"
    }
   ],
   "source": [
    "#Busca en la fila 0 y columna 0 los primeros dos valores(no hablamos de posiciones)\n",
    "a[0,0:2]"
   ]
  },
  {
   "cell_type": "code",
   "execution_count": 55,
   "id": "4f9e9a5d",
   "metadata": {},
   "outputs": [
    {
     "data": {
      "text/plain": [
       "array([3, 4, 5])"
      ]
     },
     "execution_count": 55,
     "metadata": {},
     "output_type": "execute_result"
    }
   ],
   "source": [
    "#Obtiene la informacion de toda las columnas de la fila seleccionada\n",
    "a[0,:]"
   ]
  },
  {
   "cell_type": "code",
   "execution_count": 60,
   "id": "ae6ef0e4",
   "metadata": {},
   "outputs": [
    {
     "data": {
      "text/plain": [
       "array([ 4,  8,  3, 11])"
      ]
     },
     "execution_count": 60,
     "metadata": {},
     "output_type": "execute_result"
    }
   ],
   "source": [
    "#Obtiene todas las filas de la columa seleccionada\n",
    "a[:,1]"
   ]
  },
  {
   "cell_type": "code",
   "execution_count": 61,
   "id": "47eff574",
   "metadata": {},
   "outputs": [
    {
     "data": {
      "text/plain": [
       "array([ 5,  3, 23,  6])"
      ]
     },
     "execution_count": 61,
     "metadata": {},
     "output_type": "execute_result"
    }
   ],
   "source": [
    "#Obtiene todas las filas de la ultima columna\n",
    "a[:,-1]"
   ]
  },
  {
   "cell_type": "markdown",
   "id": "6f363ce2",
   "metadata": {},
   "source": [
    "## Manipulacion de dimenciones"
   ]
  },
  {
   "cell_type": "code",
   "execution_count": 62,
   "id": "96caebb0",
   "metadata": {},
   "outputs": [
    {
     "data": {
      "text/plain": [
       "array([ 3,  4,  5,  7,  8,  3,  0,  3, 23,  8, 11,  6])"
      ]
     },
     "execution_count": 62,
     "metadata": {},
     "output_type": "execute_result"
    }
   ],
   "source": [
    "#Transforma un arreglo bidimencional a unidimencional\n",
    "a.ravel()"
   ]
  },
  {
   "cell_type": "code",
   "execution_count": 69,
   "id": "335ec440",
   "metadata": {},
   "outputs": [
    {
     "data": {
      "text/plain": [
       "array([[ 3,  4,  5],\n",
       "       [ 7,  8,  3],\n",
       "       [ 0,  3, 23],\n",
       "       [ 8, 11,  6]])"
      ]
     },
     "execution_count": 69,
     "metadata": {},
     "output_type": "execute_result"
    }
   ],
   "source": [
    "#Cambia un arreglo unidimencional a bidimencional especificando filas y culumnas\n",
    "a.shape=(4,3)\n",
    "a"
   ]
  },
  {
   "cell_type": "code",
   "execution_count": 75,
   "id": "38a51ee0",
   "metadata": {},
   "outputs": [
    {
     "data": {
      "text/plain": [
       "array([[ 3,  7,  0,  8],\n",
       "       [ 4,  8,  3, 11],\n",
       "       [ 5,  3, 23,  6]])"
      ]
     },
     "execution_count": 75,
     "metadata": {},
     "output_type": "execute_result"
    }
   ],
   "source": [
    "#Transpuesta de una matriz(cambia la matriz de vertical a horizontal)\n",
    "a.transpose()"
   ]
  },
  {
   "cell_type": "code",
   "execution_count": 78,
   "id": "e1481de2",
   "metadata": {},
   "outputs": [
    {
     "data": {
      "text/plain": [
       "array([-1.        , -0.89473684, -0.78947368, -0.68421053, -0.57894737,\n",
       "       -0.47368421, -0.36842105, -0.26315789, -0.15789474, -0.05263158,\n",
       "        0.05263158,  0.15789474,  0.26315789,  0.36842105,  0.47368421,\n",
       "        0.57894737,  0.68421053,  0.78947368,  0.89473684,  1.        ])"
      ]
     },
     "execution_count": 78,
     "metadata": {},
     "output_type": "execute_result"
    }
   ],
   "source": [
    "#Generar data en un intervalo determinado, de -1 a 1 y la cantidad de valores\n",
    "c = np.linspace(-1,1,20)\n",
    "c"
   ]
  },
  {
   "cell_type": "code",
   "execution_count": 79,
   "id": "e5006138",
   "metadata": {},
   "outputs": [
    {
     "data": {
      "text/plain": [
       "(5,)"
      ]
     },
     "execution_count": 79,
     "metadata": {},
     "output_type": "execute_result"
    }
   ],
   "source": [
    "# NEW AXIS , Cantidad de valores en un arreglo unidimencional\n",
    "x1 = np.array([1, 2, 3, 4, 5])\n",
    "x1.shape"
   ]
  },
  {
   "cell_type": "code",
   "execution_count": 82,
   "id": "48bf559c",
   "metadata": {},
   "outputs": [
    {
     "data": {
      "text/plain": [
       "array([[1],\n",
       "       [2],\n",
       "       [3],\n",
       "       [4],\n",
       "       [5]])"
      ]
     },
     "execution_count": 82,
     "metadata": {},
     "output_type": "execute_result"
    }
   ],
   "source": [
    "#Agrega una nueva dimencion al arreglo en este caso las columnas\n",
    "x1_new = x1[:, np.newaxis]\n",
    "x1_new"
   ]
  },
  {
   "cell_type": "code",
   "execution_count": 85,
   "id": "f9097f4b",
   "metadata": {},
   "outputs": [
    {
     "data": {
      "text/plain": [
       "(5, 1)"
      ]
     },
     "execution_count": 85,
     "metadata": {},
     "output_type": "execute_result"
    }
   ],
   "source": [
    "#Ver la dimencion del la nueva matriz generada a partir del arreglo \"x1\"\n",
    "x1_new.shape"
   ]
  },
  {
   "cell_type": "code",
   "execution_count": 87,
   "id": "0b54d120",
   "metadata": {},
   "outputs": [
    {
     "data": {
      "text/plain": [
       "array([[ 7,  8,  9],\n",
       "       [ 8,  9, 10],\n",
       "       [ 9, 10, 11],\n",
       "       [10, 11, 12],\n",
       "       [11, 12, 13]])"
      ]
     },
     "execution_count": 87,
     "metadata": {},
     "output_type": "execute_result"
    }
   ],
   "source": [
    "#Suma cada uno de los valores del arreglo a cada uno de los valores de la matriz\n",
    "x2=np.array([6,7,8])\n",
    "x3=x1_new+x2\n",
    "x3"
   ]
  },
  {
   "cell_type": "code",
   "execution_count": 92,
   "id": "9c85da4e",
   "metadata": {},
   "outputs": [
    {
     "data": {
      "text/plain": [
       "array([[ 7],\n",
       "       [ 8],\n",
       "       [ 9],\n",
       "       [10],\n",
       "       [11]])"
      ]
     },
     "execution_count": 92,
     "metadata": {},
     "output_type": "execute_result"
    }
   ],
   "source": [
    "#Creamos un nuevo arreglo al cual le asignamos los valores de la columa 0 de \"x3\" en dos dimenciones\n",
    "x3_new = x3[:,np.newaxis,0]\n",
    "x3_new"
   ]
  },
  {
   "cell_type": "code",
   "execution_count": 93,
   "id": "fc3dd0f8",
   "metadata": {},
   "outputs": [
    {
     "data": {
      "text/plain": [
       "array([ 7,  8,  9, 10, 11])"
      ]
     },
     "execution_count": 93,
     "metadata": {},
     "output_type": "execute_result"
    }
   ],
   "source": [
    "#Creamos un nuevo arreglo al cual le asignamos los valores de la columa 0 de \"x3\" en unna sola dimencion\n",
    "x3_new_ = x3[:,0]\n",
    "x3_new_"
   ]
  },
  {
   "cell_type": "code",
   "execution_count": 95,
   "id": "0b19cbcd",
   "metadata": {},
   "outputs": [
    {
     "name": "stdout",
     "output_type": "stream",
     "text": [
      "[[[2 2 2]\n",
      "  [2 2 2]]]\n",
      "Shape of input array :  (1, 2, 3)\n"
     ]
    }
   ],
   "source": [
    "# Squeeze\n",
    "#El numero de corchetes define la cantidad dimenciones con las que se estan trabajando\n",
    "arr = np.array([[[2, 2, 2], [2, 2, 2]]])   \n",
    "print(arr)\n",
    "print(\"Shape of input array : \", arr.shape)"
   ]
  },
  {
   "cell_type": "code",
   "execution_count": 96,
   "id": "83b0ea23",
   "metadata": {},
   "outputs": [
    {
     "name": "stdout",
     "output_type": "stream",
     "text": [
      "[[2 2 2]\n",
      " [2 2 2]]\n",
      "Shape of output array :  (2, 3)\n"
     ]
    }
   ],
   "source": [
    "#Elimina una dimencion y se queda con solo filas y columnas\n",
    "arr_ = np.squeeze(arr)  \n",
    "print(arr_)\n",
    "print(\"Shape of output array : \", arr_.shape) "
   ]
  },
  {
   "cell_type": "markdown",
   "id": "f65aab98",
   "metadata": {},
   "source": [
    "## Reference:\n",
    "https://docs.scipy.org/doc/numpy-dev/user/quickstart.html\n",
    "\n",
    "https://docs.scipy.org"
   ]
  }
 ],
 "metadata": {
  "interpreter": {
   "hash": "aa8c24913dd8aff7bff58cae25ffbd9879c4336e71ccef0ca81795950478eb71"
  },
  "kernelspec": {
   "display_name": "Python 3.8.13",
   "language": "python",
   "name": "python3"
  },
  "language_info": {
   "codemirror_mode": {
    "name": "ipython",
    "version": 3
   },
   "file_extension": ".py",
   "mimetype": "text/x-python",
   "name": "python",
   "nbconvert_exporter": "python",
   "pygments_lexer": "ipython3",
   "version": "3.8.13"
  }
 },
 "nbformat": 4,
 "nbformat_minor": 5
}
