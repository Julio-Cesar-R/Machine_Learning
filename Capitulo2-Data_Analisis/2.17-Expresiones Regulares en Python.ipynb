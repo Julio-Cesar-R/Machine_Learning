{
 "cells": [
  {
   "cell_type": "markdown",
   "metadata": {},
   "source": [
    "# Expresiones Regulares en Python"
   ]
  },
  {
   "cell_type": "code",
   "execution_count": 2,
   "metadata": {},
   "outputs": [],
   "source": [
    "#Libreria\n",
    "import re"
   ]
  },
  {
   "cell_type": "markdown",
   "metadata": {},
   "source": [
    "## Match: match a string conform to a pattern"
   ]
  },
  {
   "cell_type": "code",
   "execution_count": 10,
   "metadata": {},
   "outputs": [],
   "source": [
    "#Texto del cual buscaremos coincidencias\n",
    "txt = \"Regular Expressions in Python\""
   ]
  },
  {
   "cell_type": "code",
   "execution_count": 11,
   "metadata": {},
   "outputs": [
    {
     "name": "stdout",
     "output_type": "stream",
     "text": [
      "<re.Match object; span=(23, 29), match='Python'>\n"
     ]
    }
   ],
   "source": [
    "#Muestra la posicion en la que se encuentra y el match\n",
    "#r es por fila de estring\n",
    "match = re.search(r'Python', txt)# r is for raw strings\n",
    "print(match)"
   ]
  },
  {
   "cell_type": "code",
   "execution_count": 13,
   "metadata": {},
   "outputs": [
    {
     "name": "stdout",
     "output_type": "stream",
     "text": [
      "found Python\n"
     ]
    }
   ],
   "source": [
    "#Match.group() muestra lo que se encontro\n",
    "if match:\n",
    "    print(\"found\", match.group())\n",
    "else:\n",
    "    print(\"No match found\")"
   ]
  },
  {
   "cell_type": "markdown",
   "metadata": {},
   "source": [
    "## Compile: create a regex object"
   ]
  },
  {
   "cell_type": "code",
   "execution_count": 14,
   "metadata": {},
   "outputs": [
    {
     "name": "stdout",
     "output_type": "stream",
     "text": [
      "610-742-8645\n"
     ]
    }
   ],
   "source": [
    "#Patron de numeros dentro de un string\n",
    "#Para definir una expresion regular se usa el metodo .compile()\n",
    "message = \"my number is 610-742-8645\"\n",
    "regex = re.compile(r'\\d\\d\\d-\\d\\d\\d-\\d\\d\\d\\d')\n",
    "res = regex.search(message) #Busqueda\n",
    "print(res.group())#Numero en texto"
   ]
  },
  {
   "cell_type": "markdown",
   "metadata": {},
   "source": [
    "## Findall: find all patterns in a string and returns all the matches"
   ]
  },
  {
   "cell_type": "code",
   "execution_count": 15,
   "metadata": {},
   "outputs": [
    {
     "name": "stdout",
     "output_type": "stream",
     "text": [
      "['e', 'e', 'e', 'e', 'e']\n"
     ]
    }
   ],
   "source": [
    "#Buscar un string een otro\n",
    "#findall devuelve una lista con todos los resultados\n",
    "txt = \"Expresiones regulares en Python\"\n",
    "result = re.findall('e', txt)\n",
    "print(result)"
   ]
  },
  {
   "cell_type": "code",
   "execution_count": 16,
   "metadata": {},
   "outputs": [
    {
     "name": "stdout",
     "output_type": "stream",
     "text": [
      "['en']\n"
     ]
    }
   ],
   "source": [
    "#String\n",
    "result2 = re.findall('en', txt)\n",
    "print(result2)"
   ]
  },
  {
   "cell_type": "code",
   "execution_count": 18,
   "metadata": {},
   "outputs": [
    {
     "name": "stdout",
     "output_type": "stream",
     "text": [
      "['e', 's', 'o', 'e', 's', 'e', 'e', 's', 'e', 'o']\n"
     ]
    }
   ],
   "source": [
    "#Lista en un string\n",
    "#Busca todas las letras dentro de la lista en el string\n",
    "result3 = re.findall('[seo]', txt)\n",
    "print(result3)"
   ]
  },
  {
   "cell_type": "code",
   "execution_count": 19,
   "metadata": {},
   "outputs": [
    {
     "name": "stdout",
     "output_type": "stream",
     "text": [
      "['610-742-8645', '563-852-9642']\n"
     ]
    }
   ],
   "source": [
    "#Find all Busca todos los formatos de numeros en el texto\n",
    "message1 = \"my number is 610-742-8645 and also 563-852-9642\"\n",
    "regex1 = re.compile(r'\\d\\d\\d-\\d\\d\\d-\\d\\d\\d\\d')\n",
    "res1 = regex1.findall(message1)\n",
    "print(res1)"
   ]
  },
  {
   "cell_type": "markdown",
   "metadata": {},
   "source": [
    "## Group: to get the matched string"
   ]
  },
  {
   "cell_type": "code",
   "execution_count": 22,
   "metadata": {},
   "outputs": [
    {
     "name": "stdout",
     "output_type": "stream",
     "text": [
      "<re.Match object; span=(13, 25), match='610-742-8645'>\n"
     ]
    }
   ],
   "source": [
    "#Expresion regular de numero\n",
    "regex2 = re.compile(r'(\\d\\d\\d)-(\\d\\d\\d-\\d\\d\\d\\d)')\n",
    "match1 = regex2.search(message)\n",
    "print(match1)"
   ]
  },
  {
   "cell_type": "code",
   "execution_count": 23,
   "metadata": {},
   "outputs": [
    {
     "data": {
      "text/plain": [
       "'610-742-8645'"
      ]
     },
     "execution_count": 23,
     "metadata": {},
     "output_type": "execute_result"
    }
   ],
   "source": [
    "#Muestra la informacion completa\n",
    "match1.group()"
   ]
  },
  {
   "cell_type": "code",
   "execution_count": 13,
   "metadata": {},
   "outputs": [
    {
     "data": {
      "text/plain": [
       "'610'"
      ]
     },
     "execution_count": 13,
     "metadata": {},
     "output_type": "execute_result"
    }
   ],
   "source": [
    "#Muestra el primer grupo\n",
    "match1.group(1)"
   ]
  },
  {
   "cell_type": "code",
   "execution_count": 24,
   "metadata": {},
   "outputs": [
    {
     "data": {
      "text/plain": [
       "'742-8645'"
      ]
     },
     "execution_count": 24,
     "metadata": {},
     "output_type": "execute_result"
    }
   ],
   "source": [
    "#Muestra el segundo grupo\n",
    "match1.group(2)"
   ]
  },
  {
   "cell_type": "markdown",
   "metadata": {},
   "source": [
    "## Escaping Special Characters"
   ]
  },
  {
   "cell_type": "code",
   "execution_count": 26,
   "metadata": {},
   "outputs": [
    {
     "name": "stdout",
     "output_type": "stream",
     "text": [
      "['S', 'e', 'n', 't', 'e', 'n', 'c', 'e', 's', ' ', 'h', 'a', 'v', 'e', ' ', 'd', 'o', 't', 's', '.', ' ', 'H', 'o', 'w', ' ', 'd', 'o', ' ', 'w', 'e', ' ', 'e', 's', 'c', 'a', 'p', 'e', ' ', 't', 'h', 'e', 'm', '?']\n"
     ]
    }
   ],
   "source": [
    "#Pone en una lista todos los caracteres  excepto el punto\n",
    "str = 'Sentences have dots. How do we escape them?'\n",
    "lst = re.findall('.', str)\n",
    "print(lst)"
   ]
  },
  {
   "cell_type": "code",
   "execution_count": 25,
   "metadata": {},
   "outputs": [
    {
     "name": "stdout",
     "output_type": "stream",
     "text": [
      "['.']\n"
     ]
    }
   ],
   "source": [
    "#Buscar el punto como caracter\n",
    "lst1 = re.findall('\\.', str)\n",
    "print(lst1)"
   ]
  },
  {
   "cell_type": "markdown",
   "metadata": {},
   "source": [
    "## Pipe Character (|): match one of many possible group"
   ]
  },
  {
   "cell_type": "code",
   "execution_count": 27,
   "metadata": {},
   "outputs": [],
   "source": [
    "#Expresion regular al leer  estas lineas busca todas las coincidencias entre \"Py\" y \"thon|mysql|charm\"\n",
    "exp = re.compile(r'Py(thon|mysql|charm)')"
   ]
  },
  {
   "cell_type": "code",
   "execution_count": 28,
   "metadata": {},
   "outputs": [
    {
     "data": {
      "text/plain": [
       "'Python'"
      ]
     },
     "execution_count": 28,
     "metadata": {},
     "output_type": "execute_result"
    }
   ],
   "source": [
    "#Encuentra la primer coincidencia\n",
    "res = exp.search(\"Python is a great language for programming\")\n",
    "res.group()"
   ]
  },
  {
   "cell_type": "code",
   "execution_count": 29,
   "metadata": {},
   "outputs": [
    {
     "data": {
      "text/plain": [
       "'Pymysql'"
      ]
     },
     "execution_count": 29,
     "metadata": {},
     "output_type": "execute_result"
    }
   ],
   "source": [
    "#Encuentra la segunda coincidencia\n",
    "res = exp.search(\"Pymysql is a tool for connecting mysql db\")\n",
    "res.group()"
   ]
  },
  {
   "cell_type": "code",
   "execution_count": 40,
   "metadata": {},
   "outputs": [
    {
     "data": {
      "text/plain": [
       "'Pycharm'"
      ]
     },
     "execution_count": 40,
     "metadata": {},
     "output_type": "execute_result"
    }
   ],
   "source": [
    "#Encuentra la tercer coincidencia\n",
    "res = exp.search(\"A great developer tool is Pycharm\")\n",
    "res.group()"
   ]
  },
  {
   "cell_type": "code",
   "execution_count": 41,
   "metadata": {},
   "outputs": [
    {
     "name": "stdout",
     "output_type": "stream",
     "text": [
      "Py['charm', 'mysql']\n"
     ]
    }
   ],
   "source": [
    "res1 = exp.findall(\"A great developer tool is Pycharm Pymysql\")\n",
    "print(f\"Py{res1}\")\n"
   ]
  },
  {
   "cell_type": "markdown",
   "metadata": {},
   "source": [
    "## ? Character: zero or one time"
   ]
  },
  {
   "cell_type": "code",
   "execution_count": 44,
   "metadata": {},
   "outputs": [],
   "source": [
    "#(?) 0 o una coincidencia\n",
    "expr = re.compile(r'Pyt(ho)?n')"
   ]
  },
  {
   "cell_type": "code",
   "execution_count": 49,
   "metadata": {},
   "outputs": [
    {
     "data": {
      "text/plain": [
       "'Python'"
      ]
     },
     "execution_count": 49,
     "metadata": {},
     "output_type": "execute_result"
    }
   ],
   "source": [
    "match = expr.search(\" a great language Python\")\n",
    "match.group()"
   ]
  },
  {
   "cell_type": "code",
   "execution_count": 50,
   "metadata": {},
   "outputs": [
    {
     "data": {
      "text/plain": [
       "'Pytn'"
      ]
     },
     "execution_count": 50,
     "metadata": {},
     "output_type": "execute_result"
    }
   ],
   "source": [
    "match = expr.search(\"Pytn! a great language\")\n",
    "match.group()"
   ]
  },
  {
   "cell_type": "markdown",
   "metadata": {},
   "source": [
    "## * Character: zero or more time"
   ]
  },
  {
   "cell_type": "code",
   "execution_count": 52,
   "metadata": {},
   "outputs": [
    {
     "data": {
      "text/plain": [
       "'Pythonnnnnnnnnnnnnnnnn'"
      ]
     },
     "execution_count": 52,
     "metadata": {},
     "output_type": "execute_result"
    }
   ],
   "source": [
    "#(*) 0 o muchas coincidencias si n se repite 0 o muchas veces\n",
    "expr = re.compile(r\"Pytho(n)*\")\n",
    "match = expr.search(\"Welcome to the world of Pythonnnnnnnnnnnnnnnnn\")\n",
    "match.group()"
   ]
  },
  {
   "cell_type": "markdown",
   "metadata": {},
   "source": [
    "## + Character: must appear at least 1 or more time"
   ]
  },
  {
   "cell_type": "code",
   "execution_count": 54,
   "metadata": {},
   "outputs": [
    {
     "data": {
      "text/plain": [
       "'Pythoon'"
      ]
     },
     "execution_count": 54,
     "metadata": {},
     "output_type": "execute_result"
    }
   ],
   "source": [
    "#(+) almenos una vez o muchas veces\n",
    "expr = re.compile(r'Pyth(o)+n')\n",
    "match = expr.search(\"Welcome to the world of Pythoon\")\n",
    "match.group()"
   ]
  },
  {
   "cell_type": "markdown",
   "metadata": {},
   "source": [
    "## {} : specific number of times"
   ]
  },
  {
   "cell_type": "code",
   "execution_count": 55,
   "metadata": {},
   "outputs": [
    {
     "data": {
      "text/plain": [
       "'HoHoHo'"
      ]
     },
     "execution_count": 55,
     "metadata": {},
     "output_type": "execute_result"
    }
   ],
   "source": [
    "# {} numero de veces que se repite un tipo de caracter\n",
    "regex = re.compile(r'(Ho){3}')\n",
    "match = regex.search(\"Santa says HoHoHo\")\n",
    "match.group()"
   ]
  },
  {
   "cell_type": "markdown",
   "metadata": {},
   "source": [
    "## Match longest possible string"
   ]
  },
  {
   "cell_type": "code",
   "execution_count": 57,
   "metadata": {},
   "outputs": [
    {
     "data": {
      "text/plain": [
       "'12345678'"
      ]
     },
     "execution_count": 57,
     "metadata": {},
     "output_type": "execute_result"
    }
   ],
   "source": [
    "#Ocurrencia minimo y maximo numero posible\n",
    "digit = re.compile(r'(\\d){3,8}')\n",
    "match = digit.search(\"12345678910\")\n",
    "match.group()"
   ]
  },
  {
   "cell_type": "markdown",
   "metadata": {},
   "source": [
    "## Match shortest possible string (add ? symbol)"
   ]
  },
  {
   "cell_type": "code",
   "execution_count": 58,
   "metadata": {},
   "outputs": [
    {
     "data": {
      "text/plain": [
       "'1234'"
      ]
     },
     "execution_count": 58,
     "metadata": {},
     "output_type": "execute_result"
    }
   ],
   "source": [
    "#Coincidencia mas corta posible {4,8}?\n",
    "digit = re.compile(r'(\\d){4,8}?')\n",
    "match = digit.search('123456789')\n",
    "match.group()"
   ]
  },
  {
   "cell_type": "markdown",
   "metadata": {},
   "source": [
    "## Match the exact number of characters"
   ]
  },
  {
   "cell_type": "code",
   "execution_count": 59,
   "metadata": {},
   "outputs": [
    {
     "name": "stdout",
     "output_type": "stream",
     "text": [
      "['22/10/2019']\n"
     ]
    }
   ],
   "source": [
    "#Extrae datos de fecha\n",
    "#Numeros de 0 a 9 de uno o dos digitos /numeros de 0 a 9/ numeros de 0 a 9 de 4 espacios\n",
    "string = 'The date is 22/10/2019'\n",
    "lst = re.findall('[0-9]{1,2}\\/[0-9]{1,2}\\/[0-9]{4}', string)\n",
    "print(lst)"
   ]
  },
  {
   "cell_type": "markdown",
   "metadata": {},
   "source": [
    "## Our own regular expression: Two vowel in a string"
   ]
  },
  {
   "cell_type": "code",
   "execution_count": 62,
   "metadata": {},
   "outputs": [
    {
     "data": {
      "text/plain": [
       "['Ai']"
      ]
     },
     "execution_count": 62,
     "metadata": {},
     "output_type": "execute_result"
    }
   ],
   "source": [
    "#Lugar donde se repita una mayuscula con una minuscula de las especificadas en la RE\n",
    "regex = re.compile(r'[aeiouAEIOU]{2}')\n",
    "string = \"Welcome to the world of Ai\"\n",
    "regex.findall(string)"
   ]
  },
  {
   "cell_type": "markdown",
   "metadata": {},
   "source": [
    "## Negative Character Class: ^"
   ]
  },
  {
   "cell_type": "code",
   "execution_count": 63,
   "metadata": {},
   "outputs": [
    {
     "data": {
      "text/plain": [
       "['T', 'h', ' ', 'l', 'n', 'g', 'g', ' ', 's', ' ', 'P', 'y', 't', 'h', 'n']"
      ]
     },
     "execution_count": 63,
     "metadata": {},
     "output_type": "execute_result"
    }
   ],
   "source": [
    "#La negacion de laexpresion regular , sin vocales\n",
    "regex = re.compile(r'[^aeiouAEIOU]')\n",
    "string = \"The language is PythOn\"\n",
    "regex.findall(string)"
   ]
  },
  {
   "cell_type": "markdown",
   "metadata": {},
   "source": [
    "## Find the start of a string : ^ "
   ]
  },
  {
   "cell_type": "code",
   "execution_count": 67,
   "metadata": {},
   "outputs": [
    {
     "data": {
      "text/plain": [
       "['The']"
      ]
     },
     "execution_count": 67,
     "metadata": {},
     "output_type": "execute_result"
    }
   ],
   "source": [
    "# INician con la regular expression\n",
    "r = re.compile(r'^The')\n",
    "string = \"The language is PythOn\"\n",
    "r.findall(string)"
   ]
  },
  {
   "cell_type": "markdown",
   "metadata": {},
   "source": [
    "## Case Insensitive"
   ]
  },
  {
   "cell_type": "code",
   "execution_count": 66,
   "metadata": {},
   "outputs": [
    {
     "data": {
      "text/plain": [
       "['e', 'O', 'O', 'i', 'I', 'i', 'i', 'e']"
      ]
     },
     "execution_count": 66,
     "metadata": {},
     "output_type": "execute_result"
    }
   ],
   "source": [
    "#Letras mayusculas y minusculas vocales\n",
    "string = \"The COSMOS is Infinite\"\n",
    "regex = re.compile(r'[aeiou]',re.I)\n",
    "regex.findall(string)"
   ]
  },
  {
   "cell_type": "markdown",
   "metadata": {},
   "source": [
    "## Character Classes: \\w, \\d, \\s"
   ]
  },
  {
   "cell_type": "code",
   "execution_count": 76,
   "metadata": {},
   "outputs": [
    {
     "data": {
      "text/plain": [
       "['568 Los Jardines', '1145 Altos Dpto.501']"
      ]
     },
     "execution_count": 76,
     "metadata": {},
     "output_type": "execute_result"
    }
   ],
   "source": [
    "#Buscar direccion\n",
    "# \\d: Any numeric digit[0–9]\n",
    "# \\w : sequence of word-like characters [a-zA-Z0–9_] that are not space\n",
    "# \\s: whitespace characters(space,newline,tab)\n",
    "\n",
    "address = \"568 Los Jardines 1145 Altos Dpto.501\"\n",
    "match = re.compile(r'\\d+\\s\\w+\\s\\w.......')\n",
    "match.findall(address)"
   ]
  },
  {
   "cell_type": "markdown",
   "metadata": {},
   "source": [
    "## Reference:\n",
    "\n",
    "https://docs.python.org/3/library/re.html"
   ]
  }
 ],
 "metadata": {
  "kernelspec": {
   "display_name": "Python(python3.7)",
   "language": "python",
   "name": "python3.7"
  },
  "language_info": {
   "codemirror_mode": {
    "name": "ipython",
    "version": 3
   },
   "file_extension": ".py",
   "mimetype": "text/x-python",
   "name": "python",
   "nbconvert_exporter": "python",
   "pygments_lexer": "ipython3",
   "version": "3.9.7"
  },
  "toc": {
   "base_numbering": 1,
   "nav_menu": {},
   "number_sections": true,
   "sideBar": true,
   "skip_h1_title": false,
   "title_cell": "Table of Contents",
   "title_sidebar": "Contents",
   "toc_cell": false,
   "toc_position": {},
   "toc_section_display": true,
   "toc_window_display": false
  },
  "varInspector": {
   "cols": {
    "lenName": 16,
    "lenType": 16,
    "lenVar": 40
   },
   "kernels_config": {
    "python": {
     "delete_cmd_postfix": "",
     "delete_cmd_prefix": "del ",
     "library": "var_list.py",
     "varRefreshCmd": "print(var_dic_list())"
    },
    "r": {
     "delete_cmd_postfix": ") ",
     "delete_cmd_prefix": "rm(",
     "library": "var_list.r",
     "varRefreshCmd": "cat(var_dic_list()) "
    }
   },
   "types_to_exclude": [
    "module",
    "function",
    "builtin_function_or_method",
    "instance",
    "_Feature"
   ],
   "window_display": false
  }
 },
 "nbformat": 4,
 "nbformat_minor": 2
}
