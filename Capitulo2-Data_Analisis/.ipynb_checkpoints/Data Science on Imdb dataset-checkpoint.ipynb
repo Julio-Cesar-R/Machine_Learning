{
 "cells": [
  {
   "cell_type": "code",
   "execution_count": 1,
   "metadata": {},
   "outputs": [],
   "source": [
    "import numpy as np\n",
    "import pandas as pd\n",
    "import seaborn as sns\n",
    "import matplotlib.pyplot as plt\n",
    "%matplotlib inline"
   ]
  },
  {
   "cell_type": "markdown",
   "metadata": {},
   "source": [
    "## Loading data"
   ]
  },
  {
   "cell_type": "code",
   "execution_count": 2,
   "metadata": {},
   "outputs": [
    {
     "data": {
      "text/html": [
       "<div>\n",
       "<style scoped>\n",
       "    .dataframe tbody tr th:only-of-type {\n",
       "        vertical-align: middle;\n",
       "    }\n",
       "\n",
       "    .dataframe tbody tr th {\n",
       "        vertical-align: top;\n",
       "    }\n",
       "\n",
       "    .dataframe thead th {\n",
       "        text-align: right;\n",
       "    }\n",
       "</style>\n",
       "<table border=\"1\" class=\"dataframe\">\n",
       "  <thead>\n",
       "    <tr style=\"text-align: right;\">\n",
       "      <th></th>\n",
       "      <th>color</th>\n",
       "      <th>director_name</th>\n",
       "      <th>duration</th>\n",
       "      <th>gross</th>\n",
       "      <th>genres</th>\n",
       "      <th>movie_title</th>\n",
       "      <th>title_year</th>\n",
       "      <th>language</th>\n",
       "      <th>country</th>\n",
       "      <th>budget</th>\n",
       "      <th>imdb_score</th>\n",
       "      <th>actors</th>\n",
       "      <th>movie_facebook_likes</th>\n",
       "    </tr>\n",
       "  </thead>\n",
       "  <tbody>\n",
       "    <tr>\n",
       "      <td>0</td>\n",
       "      <td>Color</td>\n",
       "      <td>Martin Scorsese</td>\n",
       "      <td>240</td>\n",
       "      <td>116866727.0</td>\n",
       "      <td>Biography|Comedy|Crime|Drama</td>\n",
       "      <td>The Wolf of Wall Street</td>\n",
       "      <td>2013</td>\n",
       "      <td>English</td>\n",
       "      <td>USA</td>\n",
       "      <td>100000000.0</td>\n",
       "      <td>8.2</td>\n",
       "      <td>Leonardo DiCaprio,Matthew McConaughey,Jon Favreau</td>\n",
       "      <td>138000</td>\n",
       "    </tr>\n",
       "    <tr>\n",
       "      <td>1</td>\n",
       "      <td>Color</td>\n",
       "      <td>Shane Black</td>\n",
       "      <td>195</td>\n",
       "      <td>408992272.0</td>\n",
       "      <td>Action|Adventure|Sci-Fi</td>\n",
       "      <td>Iron Man 3</td>\n",
       "      <td>2013</td>\n",
       "      <td>English</td>\n",
       "      <td>USA</td>\n",
       "      <td>200000000.0</td>\n",
       "      <td>7.2</td>\n",
       "      <td>Robert Downey Jr.,Jon Favreau,Don Cheadle</td>\n",
       "      <td>95000</td>\n",
       "    </tr>\n",
       "    <tr>\n",
       "      <td>2</td>\n",
       "      <td>color</td>\n",
       "      <td>Quentin Tarantino</td>\n",
       "      <td>187</td>\n",
       "      <td>54116191.0</td>\n",
       "      <td>Crime|Drama|Mystery|Thriller|Western</td>\n",
       "      <td>The Hateful Eight</td>\n",
       "      <td>2015</td>\n",
       "      <td>English</td>\n",
       "      <td>USA</td>\n",
       "      <td>44000000.0</td>\n",
       "      <td>7.9</td>\n",
       "      <td>Craig Stark,Jennifer Jason Leigh,Zoë Bell</td>\n",
       "      <td>114000</td>\n",
       "    </tr>\n",
       "    <tr>\n",
       "      <td>3</td>\n",
       "      <td>Color</td>\n",
       "      <td>Kenneth Lonergan</td>\n",
       "      <td>186</td>\n",
       "      <td>46495.0</td>\n",
       "      <td>Drama</td>\n",
       "      <td>Margaret</td>\n",
       "      <td>2011</td>\n",
       "      <td>English</td>\n",
       "      <td>usa</td>\n",
       "      <td>14000000.0</td>\n",
       "      <td>6.5</td>\n",
       "      <td>Matt Damon,Kieran Culkin,John Gallagher Jr.</td>\n",
       "      <td>0</td>\n",
       "    </tr>\n",
       "    <tr>\n",
       "      <td>4</td>\n",
       "      <td>Color</td>\n",
       "      <td>Peter Jackson</td>\n",
       "      <td>186</td>\n",
       "      <td>258355354.0</td>\n",
       "      <td>Adventure|Fantasy</td>\n",
       "      <td>The Hobbit: The Desolation of Smaug</td>\n",
       "      <td>2013</td>\n",
       "      <td>English</td>\n",
       "      <td>USA</td>\n",
       "      <td>225000000.0</td>\n",
       "      <td>7.9</td>\n",
       "      <td>Aidan Turner,Adam Brown,James Nesbitt</td>\n",
       "      <td>83000</td>\n",
       "    </tr>\n",
       "  </tbody>\n",
       "</table>\n",
       "</div>"
      ],
      "text/plain": [
       "    color      director_name  duration        gross  \\\n",
       "0   Color    Martin Scorsese       240  116866727.0   \n",
       "1   Color        Shane Black       195  408992272.0   \n",
       "2  color   Quentin Tarantino       187   54116191.0   \n",
       "3   Color   Kenneth Lonergan       186      46495.0   \n",
       "4   Color      Peter Jackson       186  258355354.0   \n",
       "\n",
       "                                 genres                          movie_title  \\\n",
       "0          Biography|Comedy|Crime|Drama              The Wolf of Wall Street   \n",
       "1               Action|Adventure|Sci-Fi                           Iron Man 3   \n",
       "2  Crime|Drama|Mystery|Thriller|Western                    The Hateful Eight   \n",
       "3                                 Drama                             Margaret   \n",
       "4                     Adventure|Fantasy  The Hobbit: The Desolation of Smaug   \n",
       "\n",
       "   title_year language country       budget  imdb_score  \\\n",
       "0        2013  English     USA  100000000.0         8.2   \n",
       "1        2013  English     USA  200000000.0         7.2   \n",
       "2        2015  English     USA   44000000.0         7.9   \n",
       "3        2011  English     usa   14000000.0         6.5   \n",
       "4        2013  English     USA  225000000.0         7.9   \n",
       "\n",
       "                                              actors  movie_facebook_likes  \n",
       "0  Leonardo DiCaprio,Matthew McConaughey,Jon Favreau                138000  \n",
       "1          Robert Downey Jr.,Jon Favreau,Don Cheadle                 95000  \n",
       "2          Craig Stark,Jennifer Jason Leigh,Zoë Bell                114000  \n",
       "3        Matt Damon,Kieran Culkin,John Gallagher Jr.                     0  \n",
       "4              Aidan Turner,Adam Brown,James Nesbitt                 83000  "
      ]
     },
     "execution_count": 2,
     "metadata": {},
     "output_type": "execute_result"
    }
   ],
   "source": [
    "df = pd.read_csv('../data/IMDB.csv', encoding='utf-8')\n",
    "df.head()"
   ]
  },
  {
   "cell_type": "markdown",
   "metadata": {},
   "source": [
    "## Data Cleaning"
   ]
  },
  {
   "cell_type": "markdown",
   "metadata": {},
   "source": [
    "### Exploring Data"
   ]
  },
  {
   "cell_type": "code",
   "execution_count": 3,
   "metadata": {},
   "outputs": [
    {
     "data": {
      "application/vnd.jupyter.widget-view+json": {
       "model_id": "499f1bd6119245118eed62d70281b581",
       "version_major": 2,
       "version_minor": 0
      },
      "text/plain": [
       "QgridWidget(grid_options={'fullWidthRows': True, 'syncColumnCellResize': True, 'forceFitColumns': True, 'defau…"
      ]
     },
     "metadata": {},
     "output_type": "display_data"
    }
   ],
   "source": [
    "import qgrid\n",
    "qgrid_view = qgrid.show_grid(df, show_toolbar=True)\n",
    "qgrid_view"
   ]
  },
  {
   "cell_type": "markdown",
   "metadata": {},
   "source": [
    "### Drop useless columns"
   ]
  },
  {
   "cell_type": "code",
   "execution_count": 4,
   "metadata": {},
   "outputs": [
    {
     "data": {
      "text/html": [
       "<div>\n",
       "<style scoped>\n",
       "    .dataframe tbody tr th:only-of-type {\n",
       "        vertical-align: middle;\n",
       "    }\n",
       "\n",
       "    .dataframe tbody tr th {\n",
       "        vertical-align: top;\n",
       "    }\n",
       "\n",
       "    .dataframe thead th {\n",
       "        text-align: right;\n",
       "    }\n",
       "</style>\n",
       "<table border=\"1\" class=\"dataframe\">\n",
       "  <thead>\n",
       "    <tr style=\"text-align: right;\">\n",
       "      <th></th>\n",
       "      <th>director_name</th>\n",
       "      <th>duration</th>\n",
       "      <th>gross</th>\n",
       "      <th>genres</th>\n",
       "      <th>movie_title</th>\n",
       "      <th>title_year</th>\n",
       "      <th>country</th>\n",
       "      <th>budget</th>\n",
       "      <th>imdb_score</th>\n",
       "      <th>actors</th>\n",
       "      <th>movie_facebook_likes</th>\n",
       "    </tr>\n",
       "  </thead>\n",
       "  <tbody>\n",
       "    <tr>\n",
       "      <td>0</td>\n",
       "      <td>Martin Scorsese</td>\n",
       "      <td>240</td>\n",
       "      <td>116866727.0</td>\n",
       "      <td>Biography|Comedy|Crime|Drama</td>\n",
       "      <td>The Wolf of Wall Street</td>\n",
       "      <td>2013</td>\n",
       "      <td>USA</td>\n",
       "      <td>100000000.0</td>\n",
       "      <td>8.2</td>\n",
       "      <td>Leonardo DiCaprio,Matthew McConaughey,Jon Favreau</td>\n",
       "      <td>138000</td>\n",
       "    </tr>\n",
       "    <tr>\n",
       "      <td>1</td>\n",
       "      <td>Shane Black</td>\n",
       "      <td>195</td>\n",
       "      <td>408992272.0</td>\n",
       "      <td>Action|Adventure|Sci-Fi</td>\n",
       "      <td>Iron Man 3</td>\n",
       "      <td>2013</td>\n",
       "      <td>USA</td>\n",
       "      <td>200000000.0</td>\n",
       "      <td>7.2</td>\n",
       "      <td>Robert Downey Jr.,Jon Favreau,Don Cheadle</td>\n",
       "      <td>95000</td>\n",
       "    </tr>\n",
       "    <tr>\n",
       "      <td>2</td>\n",
       "      <td>Quentin Tarantino</td>\n",
       "      <td>187</td>\n",
       "      <td>54116191.0</td>\n",
       "      <td>Crime|Drama|Mystery|Thriller|Western</td>\n",
       "      <td>The Hateful Eight</td>\n",
       "      <td>2015</td>\n",
       "      <td>USA</td>\n",
       "      <td>44000000.0</td>\n",
       "      <td>7.9</td>\n",
       "      <td>Craig Stark,Jennifer Jason Leigh,Zoë Bell</td>\n",
       "      <td>114000</td>\n",
       "    </tr>\n",
       "    <tr>\n",
       "      <td>3</td>\n",
       "      <td>Kenneth Lonergan</td>\n",
       "      <td>186</td>\n",
       "      <td>46495.0</td>\n",
       "      <td>Drama</td>\n",
       "      <td>Margaret</td>\n",
       "      <td>2011</td>\n",
       "      <td>usa</td>\n",
       "      <td>14000000.0</td>\n",
       "      <td>6.5</td>\n",
       "      <td>Matt Damon,Kieran Culkin,John Gallagher Jr.</td>\n",
       "      <td>0</td>\n",
       "    </tr>\n",
       "    <tr>\n",
       "      <td>4</td>\n",
       "      <td>Peter Jackson</td>\n",
       "      <td>186</td>\n",
       "      <td>258355354.0</td>\n",
       "      <td>Adventure|Fantasy</td>\n",
       "      <td>The Hobbit: The Desolation of Smaug</td>\n",
       "      <td>2013</td>\n",
       "      <td>USA</td>\n",
       "      <td>225000000.0</td>\n",
       "      <td>7.9</td>\n",
       "      <td>Aidan Turner,Adam Brown,James Nesbitt</td>\n",
       "      <td>83000</td>\n",
       "    </tr>\n",
       "  </tbody>\n",
       "</table>\n",
       "</div>"
      ],
      "text/plain": [
       "       director_name  duration        gross  \\\n",
       "0    Martin Scorsese       240  116866727.0   \n",
       "1        Shane Black       195  408992272.0   \n",
       "2  Quentin Tarantino       187   54116191.0   \n",
       "3   Kenneth Lonergan       186      46495.0   \n",
       "4      Peter Jackson       186  258355354.0   \n",
       "\n",
       "                                 genres                          movie_title  \\\n",
       "0          Biography|Comedy|Crime|Drama              The Wolf of Wall Street   \n",
       "1               Action|Adventure|Sci-Fi                           Iron Man 3   \n",
       "2  Crime|Drama|Mystery|Thriller|Western                    The Hateful Eight   \n",
       "3                                 Drama                             Margaret   \n",
       "4                     Adventure|Fantasy  The Hobbit: The Desolation of Smaug   \n",
       "\n",
       "   title_year country       budget  imdb_score  \\\n",
       "0        2013     USA  100000000.0         8.2   \n",
       "1        2013     USA  200000000.0         7.2   \n",
       "2        2015     USA   44000000.0         7.9   \n",
       "3        2011     usa   14000000.0         6.5   \n",
       "4        2013     USA  225000000.0         7.9   \n",
       "\n",
       "                                              actors  movie_facebook_likes  \n",
       "0  Leonardo DiCaprio,Matthew McConaughey,Jon Favreau                138000  \n",
       "1          Robert Downey Jr.,Jon Favreau,Don Cheadle                 95000  \n",
       "2          Craig Stark,Jennifer Jason Leigh,Zoë Bell                114000  \n",
       "3        Matt Damon,Kieran Culkin,John Gallagher Jr.                     0  \n",
       "4              Aidan Turner,Adam Brown,James Nesbitt                 83000  "
      ]
     },
     "execution_count": 4,
     "metadata": {},
     "output_type": "execute_result"
    }
   ],
   "source": [
    "df.drop(['color','language'], axis=1, inplace=True)\n",
    "df.head()"
   ]
  },
  {
   "cell_type": "markdown",
   "metadata": {},
   "source": [
    "### Handle text attributes"
   ]
  },
  {
   "cell_type": "code",
   "execution_count": 5,
   "metadata": {},
   "outputs": [],
   "source": [
    "df['director_name'].fillna('', inplace=True)"
   ]
  },
  {
   "cell_type": "markdown",
   "metadata": {},
   "source": [
    "### Handle numeric attributes"
   ]
  },
  {
   "cell_type": "code",
   "execution_count": 6,
   "metadata": {},
   "outputs": [],
   "source": [
    "df['gross'].fillna(0, inplace=True)\n",
    "df['budget'].fillna(0, inplace=True)"
   ]
  },
  {
   "cell_type": "markdown",
   "metadata": {},
   "source": [
    "### Unify countries names"
   ]
  },
  {
   "cell_type": "code",
   "execution_count": 7,
   "metadata": {},
   "outputs": [
    {
     "data": {
      "text/html": [
       "<div>\n",
       "<style scoped>\n",
       "    .dataframe tbody tr th:only-of-type {\n",
       "        vertical-align: middle;\n",
       "    }\n",
       "\n",
       "    .dataframe tbody tr th {\n",
       "        vertical-align: top;\n",
       "    }\n",
       "\n",
       "    .dataframe thead th {\n",
       "        text-align: right;\n",
       "    }\n",
       "</style>\n",
       "<table border=\"1\" class=\"dataframe\">\n",
       "  <thead>\n",
       "    <tr style=\"text-align: right;\">\n",
       "      <th></th>\n",
       "      <th>director_name</th>\n",
       "      <th>duration</th>\n",
       "      <th>gross</th>\n",
       "      <th>genres</th>\n",
       "      <th>movie_title</th>\n",
       "      <th>title_year</th>\n",
       "      <th>country</th>\n",
       "      <th>budget</th>\n",
       "      <th>imdb_score</th>\n",
       "      <th>actors</th>\n",
       "      <th>movie_facebook_likes</th>\n",
       "    </tr>\n",
       "  </thead>\n",
       "  <tbody>\n",
       "    <tr>\n",
       "      <td>0</td>\n",
       "      <td>Martin Scorsese</td>\n",
       "      <td>240</td>\n",
       "      <td>116866727.0</td>\n",
       "      <td>Biography|Comedy|Crime|Drama</td>\n",
       "      <td>The Wolf of Wall Street</td>\n",
       "      <td>2013</td>\n",
       "      <td>USA</td>\n",
       "      <td>100000000.0</td>\n",
       "      <td>8.2</td>\n",
       "      <td>Leonardo DiCaprio,Matthew McConaughey,Jon Favreau</td>\n",
       "      <td>138000</td>\n",
       "    </tr>\n",
       "    <tr>\n",
       "      <td>1</td>\n",
       "      <td>Shane Black</td>\n",
       "      <td>195</td>\n",
       "      <td>408992272.0</td>\n",
       "      <td>Action|Adventure|Sci-Fi</td>\n",
       "      <td>Iron Man 3</td>\n",
       "      <td>2013</td>\n",
       "      <td>USA</td>\n",
       "      <td>200000000.0</td>\n",
       "      <td>7.2</td>\n",
       "      <td>Robert Downey Jr.,Jon Favreau,Don Cheadle</td>\n",
       "      <td>95000</td>\n",
       "    </tr>\n",
       "    <tr>\n",
       "      <td>2</td>\n",
       "      <td>Quentin Tarantino</td>\n",
       "      <td>187</td>\n",
       "      <td>54116191.0</td>\n",
       "      <td>Crime|Drama|Mystery|Thriller|Western</td>\n",
       "      <td>The Hateful Eight</td>\n",
       "      <td>2015</td>\n",
       "      <td>USA</td>\n",
       "      <td>44000000.0</td>\n",
       "      <td>7.9</td>\n",
       "      <td>Craig Stark,Jennifer Jason Leigh,Zoë Bell</td>\n",
       "      <td>114000</td>\n",
       "    </tr>\n",
       "    <tr>\n",
       "      <td>3</td>\n",
       "      <td>Kenneth Lonergan</td>\n",
       "      <td>186</td>\n",
       "      <td>46495.0</td>\n",
       "      <td>Drama</td>\n",
       "      <td>Margaret</td>\n",
       "      <td>2011</td>\n",
       "      <td>USA</td>\n",
       "      <td>14000000.0</td>\n",
       "      <td>6.5</td>\n",
       "      <td>Matt Damon,Kieran Culkin,John Gallagher Jr.</td>\n",
       "      <td>0</td>\n",
       "    </tr>\n",
       "    <tr>\n",
       "      <td>4</td>\n",
       "      <td>Peter Jackson</td>\n",
       "      <td>186</td>\n",
       "      <td>258355354.0</td>\n",
       "      <td>Adventure|Fantasy</td>\n",
       "      <td>The Hobbit: The Desolation of Smaug</td>\n",
       "      <td>2013</td>\n",
       "      <td>USA</td>\n",
       "      <td>225000000.0</td>\n",
       "      <td>7.9</td>\n",
       "      <td>Aidan Turner,Adam Brown,James Nesbitt</td>\n",
       "      <td>83000</td>\n",
       "    </tr>\n",
       "    <tr>\n",
       "      <td>5</td>\n",
       "      <td></td>\n",
       "      <td>183</td>\n",
       "      <td>330249062.0</td>\n",
       "      <td>Action|Adventure|Sci-Fi</td>\n",
       "      <td>Batman v Superman: Dawn of Justice</td>\n",
       "      <td>202</td>\n",
       "      <td>USA</td>\n",
       "      <td>250000000.0</td>\n",
       "      <td>6.9</td>\n",
       "      <td>Henry Cavill,Lauren Cohan,Alan D. Purwin</td>\n",
       "      <td>197000</td>\n",
       "    </tr>\n",
       "    <tr>\n",
       "      <td>6</td>\n",
       "      <td>Peter Jackson</td>\n",
       "      <td>-50</td>\n",
       "      <td>303001229.0</td>\n",
       "      <td>Adventure|Fantasy</td>\n",
       "      <td>The Hobbit: An Unexpected Journey</td>\n",
       "      <td>2012</td>\n",
       "      <td>USA</td>\n",
       "      <td>180000000.0</td>\n",
       "      <td>7.9</td>\n",
       "      <td>Aidan Turner,Adam Brown,James Nesbitt</td>\n",
       "      <td>166000</td>\n",
       "    </tr>\n",
       "    <tr>\n",
       "      <td>7</td>\n",
       "      <td>Edward Hall</td>\n",
       "      <td>180</td>\n",
       "      <td>0.0</td>\n",
       "      <td>Drama|Romance</td>\n",
       "      <td>Restless</td>\n",
       "      <td>2012</td>\n",
       "      <td>UK</td>\n",
       "      <td>0.0</td>\n",
       "      <td>7.2</td>\n",
       "      <td>Rufus Sewell,Hayley Atwell,Charlotte Rampling</td>\n",
       "      <td>434</td>\n",
       "    </tr>\n",
       "    <tr>\n",
       "      <td>8</td>\n",
       "      <td>Joss Whedon</td>\n",
       "      <td>173</td>\n",
       "      <td>623279547.0</td>\n",
       "      <td>Action|Adventure|Sci-Fi</td>\n",
       "      <td>The Avengers</td>\n",
       "      <td>2012</td>\n",
       "      <td>USA</td>\n",
       "      <td>220000000.0</td>\n",
       "      <td>8.1</td>\n",
       "      <td>Chris Hemsworth,Robert Downey Jr.,Scarlett Joh...</td>\n",
       "      <td>123000</td>\n",
       "    </tr>\n",
       "    <tr>\n",
       "      <td>9</td>\n",
       "      <td>Joss Whedon</td>\n",
       "      <td>173</td>\n",
       "      <td>623279547.0</td>\n",
       "      <td>Action|Adventure|Sci-Fi</td>\n",
       "      <td>The Avengers</td>\n",
       "      <td>2012</td>\n",
       "      <td>USA</td>\n",
       "      <td>220000000.0</td>\n",
       "      <td>8.1</td>\n",
       "      <td>Chris Hemsworth,Robert Downey Jr.,Scarlett Joh...</td>\n",
       "      <td>123000</td>\n",
       "    </tr>\n",
       "    <tr>\n",
       "      <td>10</td>\n",
       "      <td>Tom Tykwer</td>\n",
       "      <td>172</td>\n",
       "      <td>27098580.0</td>\n",
       "      <td>Drama|Sci-Fi</td>\n",
       "      <td>Cloud Atlas</td>\n",
       "      <td>2012</td>\n",
       "      <td>GERMANY</td>\n",
       "      <td>102000000.0</td>\n",
       "      <td>-7.5</td>\n",
       "      <td>Tom Hanks,Jim Sturgess,Jim Broadbent</td>\n",
       "      <td>124000</td>\n",
       "    </tr>\n",
       "    <tr>\n",
       "      <td>11</td>\n",
       "      <td>Null</td>\n",
       "      <td>158</td>\n",
       "      <td>102515793.0</td>\n",
       "      <td>Crime|Drama|Mystery|Thriller</td>\n",
       "      <td>The Girl with the Dragon Tattoo</td>\n",
       "      <td>2011</td>\n",
       "      <td>USA</td>\n",
       "      <td>90000000.0</td>\n",
       "      <td>7.8</td>\n",
       "      <td>Robin Wright,Goran Visnjic,Joely Richardson</td>\n",
       "      <td>54000</td>\n",
       "    </tr>\n",
       "    <tr>\n",
       "      <td>12</td>\n",
       "      <td>Christopher Spencer</td>\n",
       "      <td>170</td>\n",
       "      <td>59696176.0</td>\n",
       "      <td>NaN</td>\n",
       "      <td>Son of God</td>\n",
       "      <td>2014</td>\n",
       "      <td>USA</td>\n",
       "      <td>22000000.0</td>\n",
       "      <td>5.6</td>\n",
       "      <td>Roma Downey,Amber Rose Revah,Darwin Shaw</td>\n",
       "      <td>15000</td>\n",
       "    </tr>\n",
       "    <tr>\n",
       "      <td>13</td>\n",
       "      <td>Christopher Nolan</td>\n",
       "      <td>169</td>\n",
       "      <td>187991439.0</td>\n",
       "      <td>Adventure|Drama|Sci-Fi</td>\n",
       "      <td>Interstellar</td>\n",
       "      <td>2014</td>\n",
       "      <td>USA</td>\n",
       "      <td>165000000.0</td>\n",
       "      <td>8.6</td>\n",
       "      <td>Matthew McConaughey,Anne Hathaway,Mackenzie Foy</td>\n",
       "      <td>349000</td>\n",
       "    </tr>\n",
       "    <tr>\n",
       "      <td>14</td>\n",
       "      <td>F. Gary Gray</td>\n",
       "      <td>167</td>\n",
       "      <td>161029270.0</td>\n",
       "      <td>Biography|Crime|Drama|History|Music</td>\n",
       "      <td>Straight Outta Compton</td>\n",
       "      <td>2015</td>\n",
       "      <td>USA</td>\n",
       "      <td>28000000.0</td>\n",
       "      <td>7.9</td>\n",
       "      <td>Aldis Hodge,Neil Brown Jr.,R. Marcos Taylor</td>\n",
       "      <td>76000</td>\n",
       "    </tr>\n",
       "    <tr>\n",
       "      <td>15</td>\n",
       "      <td>Richard Linklater</td>\n",
       "      <td>165</td>\n",
       "      <td>25359200.0</td>\n",
       "      <td>Drama</td>\n",
       "      <td>Boyhood</td>\n",
       "      <td>2014</td>\n",
       "      <td>USA</td>\n",
       "      <td>4000000.0</td>\n",
       "      <td>8.0</td>\n",
       "      <td>Ellar Coltrane,Lorelei Linklater,Libby Villari</td>\n",
       "      <td>92000</td>\n",
       "    </tr>\n",
       "    <tr>\n",
       "      <td>16</td>\n",
       "      <td>Quentin Tarantino</td>\n",
       "      <td>580</td>\n",
       "      <td>162804648.0</td>\n",
       "      <td>Drama|Western</td>\n",
       "      <td>Django Unchained</td>\n",
       "      <td>2012</td>\n",
       "      <td>USA</td>\n",
       "      <td>100000000.0</td>\n",
       "      <td>8.5</td>\n",
       "      <td>Leonardo DiCaprio,Christoph Waltz,Ato Essandoh</td>\n",
       "      <td>199000</td>\n",
       "    </tr>\n",
       "    <tr>\n",
       "      <td>17</td>\n",
       "      <td>Michael Bay</td>\n",
       "      <td>165</td>\n",
       "      <td>245428137.0</td>\n",
       "      <td>Action|Adventure|Sci-Fi</td>\n",
       "      <td>Transformers: Age of Extinction</td>\n",
       "      <td>2014</td>\n",
       "      <td>USA</td>\n",
       "      <td>210000000.0</td>\n",
       "      <td>5.7</td>\n",
       "      <td>Bingbing Li,Sophia Myles,Kelsey Grammer</td>\n",
       "      <td>56000</td>\n",
       "    </tr>\n",
       "    <tr>\n",
       "      <td>18</td>\n",
       "      <td>Christopher Nolan</td>\n",
       "      <td>164</td>\n",
       "      <td>448130642.0</td>\n",
       "      <td>Action|Thriller</td>\n",
       "      <td>The Dark Knight Rises</td>\n",
       "      <td>2012</td>\n",
       "      <td>USA</td>\n",
       "      <td>250000000.0</td>\n",
       "      <td>8.5</td>\n",
       "      <td>Tom Hardy,Christian Bale,Joseph Gordon-Levitt</td>\n",
       "      <td>164000</td>\n",
       "    </tr>\n",
       "    <tr>\n",
       "      <td>19</td>\n",
       "      <td>Peter Jackson</td>\n",
       "      <td>164</td>\n",
       "      <td>255108370.0</td>\n",
       "      <td>Adventure|Fantasy</td>\n",
       "      <td>The Hobbit: The Battle of the Five Armies</td>\n",
       "      <td>2014</td>\n",
       "      <td>NEW ZEALAND</td>\n",
       "      <td>250000000.0</td>\n",
       "      <td>7.5</td>\n",
       "      <td>Aidan Turner,Adam Brown,James Nesbitt</td>\n",
       "      <td>65000</td>\n",
       "    </tr>\n",
       "  </tbody>\n",
       "</table>\n",
       "</div>"
      ],
      "text/plain": [
       "          director_name  duration        gross  \\\n",
       "0       Martin Scorsese       240  116866727.0   \n",
       "1           Shane Black       195  408992272.0   \n",
       "2     Quentin Tarantino       187   54116191.0   \n",
       "3      Kenneth Lonergan       186      46495.0   \n",
       "4         Peter Jackson       186  258355354.0   \n",
       "5                             183  330249062.0   \n",
       "6         Peter Jackson       -50  303001229.0   \n",
       "7           Edward Hall       180          0.0   \n",
       "8           Joss Whedon       173  623279547.0   \n",
       "9           Joss Whedon       173  623279547.0   \n",
       "10           Tom Tykwer       172   27098580.0   \n",
       "11                 Null       158  102515793.0   \n",
       "12  Christopher Spencer       170   59696176.0   \n",
       "13    Christopher Nolan       169  187991439.0   \n",
       "14         F. Gary Gray       167  161029270.0   \n",
       "15    Richard Linklater       165   25359200.0   \n",
       "16    Quentin Tarantino       580  162804648.0   \n",
       "17          Michael Bay       165  245428137.0   \n",
       "18    Christopher Nolan       164  448130642.0   \n",
       "19        Peter Jackson       164  255108370.0   \n",
       "\n",
       "                                  genres  \\\n",
       "0           Biography|Comedy|Crime|Drama   \n",
       "1                Action|Adventure|Sci-Fi   \n",
       "2   Crime|Drama|Mystery|Thriller|Western   \n",
       "3                                  Drama   \n",
       "4                      Adventure|Fantasy   \n",
       "5                Action|Adventure|Sci-Fi   \n",
       "6                      Adventure|Fantasy   \n",
       "7                          Drama|Romance   \n",
       "8                Action|Adventure|Sci-Fi   \n",
       "9                Action|Adventure|Sci-Fi   \n",
       "10                          Drama|Sci-Fi   \n",
       "11          Crime|Drama|Mystery|Thriller   \n",
       "12                                   NaN   \n",
       "13                Adventure|Drama|Sci-Fi   \n",
       "14   Biography|Crime|Drama|History|Music   \n",
       "15                                 Drama   \n",
       "16                         Drama|Western   \n",
       "17               Action|Adventure|Sci-Fi   \n",
       "18                       Action|Thriller   \n",
       "19                     Adventure|Fantasy   \n",
       "\n",
       "                                  movie_title  title_year      country  \\\n",
       "0                     The Wolf of Wall Street        2013          USA   \n",
       "1                                  Iron Man 3        2013          USA   \n",
       "2                           The Hateful Eight        2015          USA   \n",
       "3                                    Margaret        2011          USA   \n",
       "4         The Hobbit: The Desolation of Smaug        2013          USA   \n",
       "5          Batman v Superman: Dawn of Justice         202          USA   \n",
       "6           The Hobbit: An Unexpected Journey        2012          USA   \n",
       "7                                    Restless        2012           UK   \n",
       "8                                The Avengers        2012          USA   \n",
       "9                                The Avengers        2012          USA   \n",
       "10                                Cloud Atlas        2012      GERMANY   \n",
       "11            The Girl with the Dragon Tattoo        2011          USA   \n",
       "12                                 Son of God        2014          USA   \n",
       "13                               Interstellar        2014          USA   \n",
       "14                     Straight Outta Compton        2015          USA   \n",
       "15                                    Boyhood        2014          USA   \n",
       "16                           Django Unchained        2012          USA   \n",
       "17            Transformers: Age of Extinction        2014          USA   \n",
       "18                      The Dark Knight Rises        2012          USA   \n",
       "19  The Hobbit: The Battle of the Five Armies        2014  NEW ZEALAND   \n",
       "\n",
       "         budget  imdb_score  \\\n",
       "0   100000000.0         8.2   \n",
       "1   200000000.0         7.2   \n",
       "2    44000000.0         7.9   \n",
       "3    14000000.0         6.5   \n",
       "4   225000000.0         7.9   \n",
       "5   250000000.0         6.9   \n",
       "6   180000000.0         7.9   \n",
       "7           0.0         7.2   \n",
       "8   220000000.0         8.1   \n",
       "9   220000000.0         8.1   \n",
       "10  102000000.0        -7.5   \n",
       "11   90000000.0         7.8   \n",
       "12   22000000.0         5.6   \n",
       "13  165000000.0         8.6   \n",
       "14   28000000.0         7.9   \n",
       "15    4000000.0         8.0   \n",
       "16  100000000.0         8.5   \n",
       "17  210000000.0         5.7   \n",
       "18  250000000.0         8.5   \n",
       "19  250000000.0         7.5   \n",
       "\n",
       "                                               actors  movie_facebook_likes  \n",
       "0   Leonardo DiCaprio,Matthew McConaughey,Jon Favreau                138000  \n",
       "1           Robert Downey Jr.,Jon Favreau,Don Cheadle                 95000  \n",
       "2           Craig Stark,Jennifer Jason Leigh,Zoë Bell                114000  \n",
       "3         Matt Damon,Kieran Culkin,John Gallagher Jr.                     0  \n",
       "4               Aidan Turner,Adam Brown,James Nesbitt                 83000  \n",
       "5            Henry Cavill,Lauren Cohan,Alan D. Purwin                197000  \n",
       "6               Aidan Turner,Adam Brown,James Nesbitt                166000  \n",
       "7       Rufus Sewell,Hayley Atwell,Charlotte Rampling                   434  \n",
       "8   Chris Hemsworth,Robert Downey Jr.,Scarlett Joh...                123000  \n",
       "9   Chris Hemsworth,Robert Downey Jr.,Scarlett Joh...                123000  \n",
       "10               Tom Hanks,Jim Sturgess,Jim Broadbent                124000  \n",
       "11        Robin Wright,Goran Visnjic,Joely Richardson                 54000  \n",
       "12           Roma Downey,Amber Rose Revah,Darwin Shaw                 15000  \n",
       "13    Matthew McConaughey,Anne Hathaway,Mackenzie Foy                349000  \n",
       "14        Aldis Hodge,Neil Brown Jr.,R. Marcos Taylor                 76000  \n",
       "15     Ellar Coltrane,Lorelei Linklater,Libby Villari                 92000  \n",
       "16     Leonardo DiCaprio,Christoph Waltz,Ato Essandoh                199000  \n",
       "17            Bingbing Li,Sophia Myles,Kelsey Grammer                 56000  \n",
       "18      Tom Hardy,Christian Bale,Joseph Gordon-Levitt                164000  \n",
       "19              Aidan Turner,Adam Brown,James Nesbitt                 65000  "
      ]
     },
     "execution_count": 7,
     "metadata": {},
     "output_type": "execute_result"
    }
   ],
   "source": [
    "df['country']=df['country'].str.upper()\n",
    "df['country'] = np.where(df['country']=='UNITED STATES','USA', df['country'])\n",
    "df.head(20)"
   ]
  },
  {
   "cell_type": "markdown",
   "metadata": {},
   "source": [
    "### Fixing bad data entry"
   ]
  },
  {
   "cell_type": "code",
   "execution_count": 8,
   "metadata": {},
   "outputs": [],
   "source": [
    "df['director_name'] = np.where(df['director_name']=='N/A','', df['director_name'])\n",
    "df['director_name'] = np.where(df['director_name']=='Nan','', df['director_name'])\n",
    "df['director_name'] = np.where(df['director_name']=='Null','', df['director_name'])\n",
    "df['movie_title'] = df['movie_title'].str.replace('Â', '')"
   ]
  },
  {
   "cell_type": "markdown",
   "metadata": {},
   "source": [
    "### Handling outliers"
   ]
  },
  {
   "cell_type": "code",
   "execution_count": 9,
   "metadata": {},
   "outputs": [],
   "source": [
    "df[\"gross\"]=df[\"gross\"].astype(float)\n",
    "df[\"duration\"]=df[\"duration\"].astype(float)\n",
    "df[\"budget\"]=df[\"budget\"].astype(float)\n",
    "\n",
    "df['duration'] = np.where(df['duration']<=10,0, df['duration'])\n",
    "df['duration'] = np.where(df['duration']>300,0, df['duration'])\n",
    "df['imdb_score'] = np.where(df['imdb_score']<=0,0, df['imdb_score'])\n",
    "df['title_year'] = np.where(df['title_year']<2010,0, df['title_year'])"
   ]
  },
  {
   "cell_type": "markdown",
   "metadata": {},
   "source": [
    "## Splitting data"
   ]
  },
  {
   "cell_type": "code",
   "execution_count": 10,
   "metadata": {},
   "outputs": [],
   "source": [
    "actor_list = df[\"actors\"].str.split(\",\", n = 2, expand = True) # n : max index\n",
    "df[\"actor1\"]= actor_list[0] \n",
    "df[\"actor2\"]= actor_list[1] \n",
    "df[\"actor3\"]= actor_list[2] \n",
    "df.drop(columns=['actors'], inplace=True)"
   ]
  },
  {
   "cell_type": "markdown",
   "metadata": {},
   "source": [
    "## Creating new metric : Gross over Budget"
   ]
  },
  {
   "cell_type": "code",
   "execution_count": 11,
   "metadata": {},
   "outputs": [],
   "source": [
    "df['GOB'] = df.apply(lambda row: row['gross']/row['budget'] if row['budget']!=0 else 0, axis=1)"
   ]
  },
  {
   "cell_type": "code",
   "execution_count": 12,
   "metadata": {},
   "outputs": [
    {
     "name": "stdout",
     "output_type": "stream",
     "text": [
      "        director_name  duration        gross  \\\n",
      "43        Tate Taylor     146.0  169705587.0   \n",
      "15  Richard Linklater     165.0   25359200.0   \n",
      "14       F. Gary Gray     167.0  161029270.0   \n",
      "59                        142.0  407999255.0   \n",
      "75                        138.0  150117807.0   \n",
      "44   Francis Lawrence     146.0  424645577.0   \n",
      "76    Robert Zemeckis     138.0   93749203.0   \n",
      "94      Steve McQueen     134.0   56667870.0   \n",
      "8         Joss Whedon     173.0  623279547.0   \n",
      "9         Joss Whedon     173.0  623279547.0   \n",
      "\n",
      "                                 genres                      movie_title  \\\n",
      "43                                Drama                         The Help   \n",
      "15                                Drama                          Boyhood   \n",
      "14  Biography|Crime|Drama|History|Music           Straight Outta Compton   \n",
      "59      Adventure|Drama|Sci-Fi|Thriller                 The Hunger Games   \n",
      "75                          Crime|Drama                  American Hustle   \n",
      "44            Adventure|Sci-Fi|Thriller  The Hunger Games: Catching Fire   \n",
      "76                       Drama|Thriller                           Flight   \n",
      "94              Biography|Drama|History                 12 Years a Slave   \n",
      "8               Action|Adventure|Sci-Fi                     The Avengers   \n",
      "9               Action|Adventure|Sci-Fi                     The Avengers   \n",
      "\n",
      "    title_year country       budget  imdb_score  movie_facebook_likes  \\\n",
      "43        2011     USA   25000000.0         8.1                 75000   \n",
      "15        2014     USA    4000000.0         8.0                 92000   \n",
      "14        2015     USA   28000000.0         7.9                 76000   \n",
      "59        2012     USA   78000000.0         7.3                140000   \n",
      "75        2013     USA   40000000.0         7.3                 63000   \n",
      "44        2013     USA  130000000.0         7.6                 82000   \n",
      "76        2012     USA   31000000.0         7.3                 64000   \n",
      "94        2013     USA   20000000.0         8.1                 83000   \n",
      "8         2012     USA  220000000.0         8.1                123000   \n",
      "9         2012     USA  220000000.0         8.1                123000   \n",
      "\n",
      "               actor1               actor2                 actor3       GOB  \n",
      "43         Emma Stone  Bryce Dallas Howard             Mike Vogel  6.788223  \n",
      "15     Ellar Coltrane    Lorelei Linklater          Libby Villari  6.339800  \n",
      "14        Aldis Hodge       Neil Brown Jr.       R. Marcos Taylor  5.751045  \n",
      "59  Jennifer Lawrence      Josh Hutcherson       Anthony Reynolds  5.230760  \n",
      "75  Jennifer Lawrence       Christian Bale         Bradley Cooper  3.752945  \n",
      "44  Jennifer Lawrence      Josh Hutcherson  Sandra Ellis Lafferty  3.266504  \n",
      "76  Denzel Washington      Bruce Greenwood       Nadine Velazquez  3.024168  \n",
      "94  Quvenzhané Wallis        Scoot McNairy           Taran Killam  2.833394  \n",
      "8     Chris Hemsworth    Robert Downey Jr.     Scarlett Johansson  2.833089  \n",
      "9     Chris Hemsworth    Robert Downey Jr.     Scarlett Johansson  2.833089  \n"
     ]
    }
   ],
   "source": [
    "top_GOB=df.sort_values('GOB',ascending=False).head(10)\n",
    "print(top_GOB)"
   ]
  },
  {
   "cell_type": "markdown",
   "metadata": {},
   "source": [
    "## Save data:"
   ]
  },
  {
   "cell_type": "code",
   "execution_count": 13,
   "metadata": {},
   "outputs": [],
   "source": [
    "df.to_csv(r'../data/new_IMDB.csv', index=None)"
   ]
  },
  {
   "cell_type": "markdown",
   "metadata": {},
   "source": [
    "## Data Analysis"
   ]
  },
  {
   "cell_type": "code",
   "execution_count": 14,
   "metadata": {},
   "outputs": [
    {
     "data": {
      "text/html": [
       "<div>\n",
       "<style scoped>\n",
       "    .dataframe tbody tr th:only-of-type {\n",
       "        vertical-align: middle;\n",
       "    }\n",
       "\n",
       "    .dataframe tbody tr th {\n",
       "        vertical-align: top;\n",
       "    }\n",
       "\n",
       "    .dataframe thead th {\n",
       "        text-align: right;\n",
       "    }\n",
       "</style>\n",
       "<table border=\"1\" class=\"dataframe\">\n",
       "  <thead>\n",
       "    <tr style=\"text-align: right;\">\n",
       "      <th></th>\n",
       "      <th>director_name</th>\n",
       "      <th>duration</th>\n",
       "      <th>gross</th>\n",
       "      <th>genres</th>\n",
       "      <th>movie_title</th>\n",
       "      <th>title_year</th>\n",
       "      <th>country</th>\n",
       "      <th>budget</th>\n",
       "      <th>imdb_score</th>\n",
       "      <th>movie_facebook_likes</th>\n",
       "      <th>actor1</th>\n",
       "      <th>actor2</th>\n",
       "      <th>actor3</th>\n",
       "      <th>GOB</th>\n",
       "    </tr>\n",
       "  </thead>\n",
       "  <tbody>\n",
       "    <tr>\n",
       "      <td>0</td>\n",
       "      <td>Martin Scorsese</td>\n",
       "      <td>240.0</td>\n",
       "      <td>116866727.0</td>\n",
       "      <td>Biography|Comedy|Crime|Drama</td>\n",
       "      <td>The Wolf of Wall Street</td>\n",
       "      <td>2013</td>\n",
       "      <td>USA</td>\n",
       "      <td>100000000.0</td>\n",
       "      <td>8.2</td>\n",
       "      <td>138000</td>\n",
       "      <td>Leonardo DiCaprio</td>\n",
       "      <td>Matthew McConaughey</td>\n",
       "      <td>Jon Favreau</td>\n",
       "      <td>1.168667</td>\n",
       "    </tr>\n",
       "    <tr>\n",
       "      <td>1</td>\n",
       "      <td>Shane Black</td>\n",
       "      <td>195.0</td>\n",
       "      <td>408992272.0</td>\n",
       "      <td>Action|Adventure|Sci-Fi</td>\n",
       "      <td>Iron Man 3</td>\n",
       "      <td>2013</td>\n",
       "      <td>USA</td>\n",
       "      <td>200000000.0</td>\n",
       "      <td>7.2</td>\n",
       "      <td>95000</td>\n",
       "      <td>Robert Downey Jr.</td>\n",
       "      <td>Jon Favreau</td>\n",
       "      <td>Don Cheadle</td>\n",
       "      <td>2.044961</td>\n",
       "    </tr>\n",
       "    <tr>\n",
       "      <td>2</td>\n",
       "      <td>Quentin Tarantino</td>\n",
       "      <td>187.0</td>\n",
       "      <td>54116191.0</td>\n",
       "      <td>Crime|Drama|Mystery|Thriller|Western</td>\n",
       "      <td>The Hateful Eight</td>\n",
       "      <td>2015</td>\n",
       "      <td>USA</td>\n",
       "      <td>44000000.0</td>\n",
       "      <td>7.9</td>\n",
       "      <td>114000</td>\n",
       "      <td>Craig Stark</td>\n",
       "      <td>Jennifer Jason Leigh</td>\n",
       "      <td>Zoë Bell</td>\n",
       "      <td>1.229913</td>\n",
       "    </tr>\n",
       "    <tr>\n",
       "      <td>3</td>\n",
       "      <td>Kenneth Lonergan</td>\n",
       "      <td>186.0</td>\n",
       "      <td>46495.0</td>\n",
       "      <td>Drama</td>\n",
       "      <td>Margaret</td>\n",
       "      <td>2011</td>\n",
       "      <td>USA</td>\n",
       "      <td>14000000.0</td>\n",
       "      <td>6.5</td>\n",
       "      <td>0</td>\n",
       "      <td>Matt Damon</td>\n",
       "      <td>Kieran Culkin</td>\n",
       "      <td>John Gallagher Jr.</td>\n",
       "      <td>0.003321</td>\n",
       "    </tr>\n",
       "    <tr>\n",
       "      <td>4</td>\n",
       "      <td>Peter Jackson</td>\n",
       "      <td>186.0</td>\n",
       "      <td>258355354.0</td>\n",
       "      <td>Adventure|Fantasy</td>\n",
       "      <td>The Hobbit: The Desolation of Smaug</td>\n",
       "      <td>2013</td>\n",
       "      <td>USA</td>\n",
       "      <td>225000000.0</td>\n",
       "      <td>7.9</td>\n",
       "      <td>83000</td>\n",
       "      <td>Aidan Turner</td>\n",
       "      <td>Adam Brown</td>\n",
       "      <td>James Nesbitt</td>\n",
       "      <td>1.148246</td>\n",
       "    </tr>\n",
       "  </tbody>\n",
       "</table>\n",
       "</div>"
      ],
      "text/plain": [
       "       director_name  duration        gross  \\\n",
       "0    Martin Scorsese     240.0  116866727.0   \n",
       "1        Shane Black     195.0  408992272.0   \n",
       "2  Quentin Tarantino     187.0   54116191.0   \n",
       "3   Kenneth Lonergan     186.0      46495.0   \n",
       "4      Peter Jackson     186.0  258355354.0   \n",
       "\n",
       "                                 genres                          movie_title  \\\n",
       "0          Biography|Comedy|Crime|Drama              The Wolf of Wall Street   \n",
       "1               Action|Adventure|Sci-Fi                           Iron Man 3   \n",
       "2  Crime|Drama|Mystery|Thriller|Western                    The Hateful Eight   \n",
       "3                                 Drama                             Margaret   \n",
       "4                     Adventure|Fantasy  The Hobbit: The Desolation of Smaug   \n",
       "\n",
       "   title_year country       budget  imdb_score  movie_facebook_likes  \\\n",
       "0        2013     USA  100000000.0         8.2                138000   \n",
       "1        2013     USA  200000000.0         7.2                 95000   \n",
       "2        2015     USA   44000000.0         7.9                114000   \n",
       "3        2011     USA   14000000.0         6.5                     0   \n",
       "4        2013     USA  225000000.0         7.9                 83000   \n",
       "\n",
       "              actor1                actor2              actor3       GOB  \n",
       "0  Leonardo DiCaprio   Matthew McConaughey         Jon Favreau  1.168667  \n",
       "1  Robert Downey Jr.           Jon Favreau         Don Cheadle  2.044961  \n",
       "2        Craig Stark  Jennifer Jason Leigh            Zoë Bell  1.229913  \n",
       "3         Matt Damon         Kieran Culkin  John Gallagher Jr.  0.003321  \n",
       "4       Aidan Turner            Adam Brown       James Nesbitt  1.148246  "
      ]
     },
     "execution_count": 14,
     "metadata": {},
     "output_type": "execute_result"
    }
   ],
   "source": [
    "df_imdb = pd.read_csv('../data/new_IMDB.csv')\n",
    "df_imdb.head()"
   ]
  },
  {
   "cell_type": "markdown",
   "metadata": {},
   "source": [
    "### Exploring data"
   ]
  },
  {
   "cell_type": "code",
   "execution_count": 15,
   "metadata": {},
   "outputs": [
    {
     "data": {
      "application/vnd.jupyter.widget-view+json": {
       "model_id": "e7aee1ed12ff4d48985f8bea34009663",
       "version_major": 2,
       "version_minor": 0
      },
      "text/plain": [
       "QgridWidget(grid_options={'fullWidthRows': True, 'syncColumnCellResize': True, 'forceFitColumns': True, 'defau…"
      ]
     },
     "metadata": {},
     "output_type": "display_data"
    }
   ],
   "source": [
    "qgrid = qgrid.show_grid(df_imdb, show_toolbar=True)\n",
    "qgrid"
   ]
  },
  {
   "cell_type": "markdown",
   "metadata": {},
   "source": [
    "### Directors of the top GOB movies:"
   ]
  },
  {
   "cell_type": "code",
   "execution_count": 16,
   "metadata": {},
   "outputs": [],
   "source": [
    "top_GOB = df_imdb.sort_values('GOB',ascending=False).head(15)"
   ]
  },
  {
   "cell_type": "code",
   "execution_count": 17,
   "metadata": {},
   "outputs": [],
   "source": [
    "top_GOB['director_familyName'] = df_imdb[\"director_name\"].str.split(\" \", n = 2, expand = True) [1]"
   ]
  },
  {
   "cell_type": "code",
   "execution_count": 18,
   "metadata": {},
   "outputs": [
    {
     "data": {
      "image/png": "[encoded data removed]",
      "text/plain": [
       "<Figure size 504x360 with 1 Axes>"
      ]
     },
     "metadata": {
      "needs_background": "light"
     },
     "output_type": "display_data"
    }
   ],
   "source": [
    "# plotting data in bar chart\n",
    "fig,ax = plt.subplots(figsize=(7, 5))\n",
    "ax = sns.barplot(x=\"director_familyName\", y=\"GOB\", data=top_GOB)\n",
    "\n",
    "ax.set_xticklabels(ax.get_xticklabels(), rotation=90)\n",
    "fig.suptitle('Top movie directors with highest GOB', fontsize=18)\n",
    "ax.set_xlabel('Director name',fontsize=18)\n",
    "ax.set_ylabel('Gross over Budget',fontsize=18)\n",
    "ax.tick_params(axis='x', labelsize=14)\n",
    "ax.tick_params(axis='y', labelsize=14)"
   ]
  },
  {
   "cell_type": "markdown",
   "metadata": {},
   "source": [
    "## Clustering Movies"
   ]
  },
  {
   "cell_type": "code",
   "execution_count": 19,
   "metadata": {},
   "outputs": [
    {
     "data": {
      "text/html": [
       "<div>\n",
       "<style scoped>\n",
       "    .dataframe tbody tr th:only-of-type {\n",
       "        vertical-align: middle;\n",
       "    }\n",
       "\n",
       "    .dataframe tbody tr th {\n",
       "        vertical-align: top;\n",
       "    }\n",
       "\n",
       "    .dataframe thead th {\n",
       "        text-align: right;\n",
       "    }\n",
       "</style>\n",
       "<table border=\"1\" class=\"dataframe\">\n",
       "  <thead>\n",
       "    <tr style=\"text-align: right;\">\n",
       "      <th></th>\n",
       "      <th>imdb_score</th>\n",
       "      <th>GOB</th>\n",
       "    </tr>\n",
       "  </thead>\n",
       "  <tbody>\n",
       "    <tr>\n",
       "      <td>0</td>\n",
       "      <td>8.2</td>\n",
       "      <td>1.168667</td>\n",
       "    </tr>\n",
       "    <tr>\n",
       "      <td>1</td>\n",
       "      <td>7.2</td>\n",
       "      <td>2.044961</td>\n",
       "    </tr>\n",
       "    <tr>\n",
       "      <td>2</td>\n",
       "      <td>7.9</td>\n",
       "      <td>1.229913</td>\n",
       "    </tr>\n",
       "    <tr>\n",
       "      <td>3</td>\n",
       "      <td>6.5</td>\n",
       "      <td>0.003321</td>\n",
       "    </tr>\n",
       "    <tr>\n",
       "      <td>4</td>\n",
       "      <td>7.9</td>\n",
       "      <td>1.148246</td>\n",
       "    </tr>\n",
       "  </tbody>\n",
       "</table>\n",
       "</div>"
      ],
      "text/plain": [
       "   imdb_score       GOB\n",
       "0         8.2  1.168667\n",
       "1         7.2  2.044961\n",
       "2         7.9  1.229913\n",
       "3         6.5  0.003321\n",
       "4         7.9  1.148246"
      ]
     },
     "execution_count": 19,
     "metadata": {},
     "output_type": "execute_result"
    }
   ],
   "source": [
    "df_c=df_imdb.loc[(df_imdb['GOB']>0) & df_imdb['imdb_score']>0][['imdb_score','GOB']]\n",
    "df_c.head()"
   ]
  },
  {
   "cell_type": "code",
   "execution_count": 20,
   "metadata": {},
   "outputs": [],
   "source": [
    "from sklearn.cluster import KMeans\n",
    "km = KMeans(n_clusters=3)"
   ]
  },
  {
   "cell_type": "code",
   "execution_count": 21,
   "metadata": {},
   "outputs": [
    {
     "data": {
      "text/plain": [
       "KMeans(algorithm='auto', copy_x=True, init='k-means++', max_iter=300,\n",
       "       n_clusters=3, n_init=10, n_jobs=None, precompute_distances='auto',\n",
       "       random_state=None, tol=0.0001, verbose=0)"
      ]
     },
     "execution_count": 21,
     "metadata": {},
     "output_type": "execute_result"
    }
   ],
   "source": [
    "km.fit(df_c)"
   ]
  },
  {
   "cell_type": "markdown",
   "metadata": {},
   "source": [
    "### Centroids"
   ]
  },
  {
   "cell_type": "code",
   "execution_count": 22,
   "metadata": {},
   "outputs": [],
   "source": [
    "centroids=km.cluster_centers_\n",
    "labels = km.labels_"
   ]
  },
  {
   "cell_type": "markdown",
   "metadata": {},
   "source": [
    "### Plotting Centroids"
   ]
  },
  {
   "cell_type": "code",
   "execution_count": 23,
   "metadata": {},
   "outputs": [
    {
     "data": {
      "text/plain": [
       "Text(0.5, 0, 'IMDB Score')"
      ]
     },
     "execution_count": 23,
     "metadata": {},
     "output_type": "execute_result"
    },
    {
     "data": {
      "image/png": "[encoded data removed]",
      "text/plain": [
       "<Figure size 576x432 with 1 Axes>"
      ]
     },
     "metadata": {
      "needs_background": "light"
     },
     "output_type": "display_data"
    }
   ],
   "source": [
    "fig = plt.figure(figsize=(8,6))\n",
    "colors = [\"yellow\",\"red\",\"green\"]\n",
    "df_array = np.array(df_c)\n",
    "\n",
    "for i in range(len(df_array)):\n",
    "    plt.scatter(df_array[i][0],df_array[i][1],c=colors[labels[i]],s=30,marker='o',edgecolors='black')\n",
    "\n",
    "plt.scatter(centroids[:,0], centroids[:,1], marker='x', color='black',s=300)\n",
    "fig.suptitle('Clustering Movies', fontsize=18)\n",
    "plt.ylabel('GOB')\n",
    "plt.xlabel('IMDB Score')"
   ]
  },
  {
   "cell_type": "markdown",
   "metadata": {},
   "source": [
    "## Relationship between IMDB Score and Facebook likes of movies"
   ]
  },
  {
   "cell_type": "code",
   "execution_count": 24,
   "metadata": {},
   "outputs": [],
   "source": [
    "# re scaling the data\n",
    "df_imdb['movie_facebook_likes']=df_imdb['movie_facebook_likes'].apply(lambda row: row/10000)"
   ]
  },
  {
   "cell_type": "markdown",
   "metadata": {},
   "source": [
    "### Regression with Seaborn"
   ]
  },
  {
   "cell_type": "code",
   "execution_count": 25,
   "metadata": {},
   "outputs": [
    {
     "data": {
      "text/plain": [
       "<matplotlib.axes._subplots.AxesSubplot at 0x1917a866848>"
      ]
     },
     "execution_count": 25,
     "metadata": {},
     "output_type": "execute_result"
    },
    {
     "data": {
      "image/png": "[encoded data removed]",
      "text/plain": [
       "<Figure size 576x576 with 1 Axes>"
      ]
     },
     "metadata": {
      "needs_background": "light"
     },
     "output_type": "display_data"
    }
   ],
   "source": [
    "fig = plt.figure(figsize=(8,8))\n",
    "sns.regplot('imdb_score', 'movie_facebook_likes', df_imdb, fit_reg=True,order=2,color='red')"
   ]
  },
  {
   "cell_type": "markdown",
   "metadata": {},
   "source": [
    "### Linear Regression with prediction for an IMDB score"
   ]
  },
  {
   "cell_type": "code",
   "execution_count": 26,
   "metadata": {},
   "outputs": [],
   "source": [
    "X = df_imdb['imdb_score'].values[:,np.newaxis]\n",
    "y = df_imdb['movie_facebook_likes'].values"
   ]
  },
  {
   "cell_type": "code",
   "execution_count": 27,
   "metadata": {},
   "outputs": [],
   "source": [
    "from sklearn.linear_model import LinearRegression"
   ]
  },
  {
   "cell_type": "code",
   "execution_count": 28,
   "metadata": {},
   "outputs": [],
   "source": [
    "lr = LinearRegression()"
   ]
  },
  {
   "cell_type": "code",
   "execution_count": 29,
   "metadata": {},
   "outputs": [
    {
     "data": {
      "text/plain": [
       "LinearRegression(copy_X=True, fit_intercept=True, n_jobs=None, normalize=False)"
      ]
     },
     "execution_count": 29,
     "metadata": {},
     "output_type": "execute_result"
    }
   ],
   "source": [
    "lr.fit(X, y)"
   ]
  },
  {
   "cell_type": "markdown",
   "metadata": {},
   "source": [
    "#### Prediction:"
   ]
  },
  {
   "cell_type": "code",
   "execution_count": 30,
   "metadata": {},
   "outputs": [
    {
     "data": {
      "text/plain": [
       "array([[8.8]])"
      ]
     },
     "execution_count": 30,
     "metadata": {},
     "output_type": "execute_result"
    }
   ],
   "source": [
    "IMDB_score=8.8\n",
    "X_test=np.array([IMDB_score]).reshape(1,-1)\n",
    "X_test"
   ]
  },
  {
   "cell_type": "code",
   "execution_count": 31,
   "metadata": {},
   "outputs": [
    {
     "name": "stdout",
     "output_type": "stream",
     "text": [
      "Facebook likes estimation (10k) for a IMDB score:8.8-->[9.34539641]\n"
     ]
    }
   ],
   "source": [
    "y_pred = lr.predict(X_test)\n",
    "print(f\"Facebook likes estimation (10k) for a IMDB score:{IMDB_score}-->{y_pred}\")"
   ]
  },
  {
   "cell_type": "markdown",
   "metadata": {},
   "source": [
    "#### Plotting the model and prediction"
   ]
  },
  {
   "cell_type": "code",
   "execution_count": 32,
   "metadata": {},
   "outputs": [
    {
     "data": {
      "text/plain": [
       "<matplotlib.collections.PathCollection at 0x1917ba558c8>"
      ]
     },
     "execution_count": 32,
     "metadata": {},
     "output_type": "execute_result"
    },
    {
     "data": {
      "image/png": "[encoded data removed]",
      "text/plain": [
       "<Figure size 720x504 with 1 Axes>"
      ]
     },
     "metadata": {
      "needs_background": "light"
     },
     "output_type": "display_data"
    }
   ],
   "source": [
    "fig,ax = plt.subplots(figsize=(10, 7))\n",
    "\n",
    "plt.xlabel('IMDB score');\n",
    "plt.ylabel('Facebook like (10K)');\n",
    "\n",
    "plt.scatter(X, y,color='blue')\n",
    "plt.plot(X, lr.predict(X),color='red')\n",
    "\n",
    "plt.scatter(X_test, y_pred, color='black', s=200) "
   ]
  },
  {
   "cell_type": "code",
   "execution_count": null,
   "metadata": {},
   "outputs": [],
   "source": []
  }
 ],
 "metadata": {
  "kernelspec": {
   "display_name": "py3.7",
   "language": "python",
   "name": "py37"
  },
  "language_info": {
   "codemirror_mode": {
    "name": "ipython",
    "version": 3
   },
   "file_extension": ".py",
   "mimetype": "text/x-python",
   "name": "python",
   "nbconvert_exporter": "python",
   "pygments_lexer": "ipython3",
   "version": "3.7.4"
  },
  "toc": {
   "base_numbering": 1,
   "nav_menu": {},
   "number_sections": true,
   "sideBar": true,
   "skip_h1_title": false,
   "title_cell": "Table of Contents",
   "title_sidebar": "Contents",
   "toc_cell": false,
   "toc_position": {},
   "toc_section_display": true,
   "toc_window_display": false
  },
  "varInspector": {
   "cols": {
    "lenName": 16,
    "lenType": 16,
    "lenVar": 40
   },
   "kernels_config": {
    "python": {
     "delete_cmd_postfix": "",
     "delete_cmd_prefix": "del ",
     "library": "var_list.py",
     "varRefreshCmd": "print(var_dic_list())"
    },
    "r": {
     "delete_cmd_postfix": ") ",
     "delete_cmd_prefix": "rm(",
     "library": "var_list.r",
     "varRefreshCmd": "cat(var_dic_list()) "
    }
   },
   "types_to_exclude": [
    "module",
    "function",
    "builtin_function_or_method",
    "instance",
    "_Feature"
   ],
   "window_display": false
  }
 },
 "nbformat": 4,
 "nbformat_minor": 2
}
