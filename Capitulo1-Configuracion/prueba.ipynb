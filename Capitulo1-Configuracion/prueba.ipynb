{
 "cells": [
  {
   "cell_type": "code",
   "execution_count": 2,
   "id": "68fd5e7b",
   "metadata": {},
   "outputs": [
    {
     "name": "stdout",
     "output_type": "stream",
     "text": [
      "Hola 7\n"
     ]
    }
   ],
   "source": [
    "print(f\"Hola {5+2}\")"
   ]
  },
  {
   "cell_type": "markdown",
   "id": "6a6cace6",
   "metadata": {},
   "source": [
    "# Hola mundo"
   ]
  },
  {
   "cell_type": "markdown",
   "id": "7c95764f",
   "metadata": {},
   "source": [
    "## Hola mundo  "
   ]
  },
  {
   "cell_type": "code",
   "execution_count": 9,
   "id": "16f1ea7b",
   "metadata": {},
   "outputs": [],
   "source": [
    "#print(f\"Hola {5+2}\")"
   ]
  },
  {
   "cell_type": "code",
   "execution_count": null,
   "id": "75a84833",
   "metadata": {},
   "outputs": [],
   "source": []
  }
 ],
 "metadata": {
  "interpreter": {
   "hash": "aa8c24913dd8aff7bff58cae25ffbd9879c4336e71ccef0ca81795950478eb71"
  },
  "kernelspec": {
   "display_name": "Python 3.8.13",
   "language": "python",
   "name": "python3"
  },
  "language_info": {
   "codemirror_mode": {
    "name": "ipython",
    "version": 3
   },
   "file_extension": ".py",
   "mimetype": "text/x-python",
   "name": "python",
   "nbconvert_exporter": "python",
   "pygments_lexer": "ipython3",
   "version": "3.8.13"
  }
 },
 "nbformat": 4,
 "nbformat_minor": 5
}
