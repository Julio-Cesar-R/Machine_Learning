{
 "cells": [
  {
   "cell_type": "code",
   "execution_count": 7,
   "id": "68fd5e7b",
   "metadata": {},
   "outputs": [
    {
     "name": "stdout",
     "output_type": "stream",
     "text": [
      "Hola 7\n"
     ]
    }
   ],
   "source": [
    "print(f\"Hola {5+2}\")"
   ]
  },
  {
   "cell_type": "markdown",
   "id": "6a6cace6",
   "metadata": {},
   "source": [
    "# Hola mundo"
   ]
  },
  {
   "cell_type": "markdown",
   "id": "7c95764f",
   "metadata": {},
   "source": [
    "## Hola mundo  "
   ]
  },
  {
   "cell_type": "code",
   "execution_count": 9,
   "id": "16f1ea7b",
   "metadata": {},
   "outputs": [],
   "source": [
    "#print(f\"Hola {5+2}\")"
   ]
  },
  {
   "cell_type": "code",
   "execution_count": null,
   "id": "75a84833",
   "metadata": {},
   "outputs": [],
   "source": []
  }
 ],
 "metadata": {
  "kernelspec": {
   "display_name": "Python(python3.7)",
   "language": "python",
   "name": "python3.7"
  },
  "language_info": {
   "codemirror_mode": {
    "name": "ipython",
    "version": 3
   },
   "file_extension": ".py",
   "mimetype": "text/x-python",
   "name": "python",
   "nbconvert_exporter": "python",
   "pygments_lexer": "ipython3",
   "version": "3.9.7"
  }
 },
 "nbformat": 4,
 "nbformat_minor": 5
}
